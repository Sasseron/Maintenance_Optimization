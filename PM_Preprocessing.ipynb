{
 "cells": [
  {
   "cell_type": "markdown",
   "metadata": {},
   "source": [
    "# COLECT DATA"
   ]
  },
  {
   "cell_type": "markdown",
   "metadata": {},
   "source": [
    "UCI repository is a synthetic dataset that reflects real predictive maintenance in industry to the best of their knowledge. \n",
    "\n",
    "The dataset consists of 10 000 data points stored as rows with 14 features in columns.\n",
    "https://archive.ics.uci.edu/datasets?search=AI4I%202020%20Predictive%20Maintenance%20Dataset\n",
    "\n",
    "UID: unique identifier from 1 to 10000;\n",
    "Product ID: consisting of a letter L, M, or H related to quality and time production (finishing) --> low: 2s, medium: 3s and high: 5s;\n",
    "\n",
    "Air temperature [K]: generated using a random walk process later normalized to a standard deviation of 2 K around 300 K;\n",
    "\n",
    "Process temperature [K]: generated using a random walk process normalized to a standard deviation of 1 K, added to the air temperature plus 10 K;\n",
    "\n",
    "Rotational speed [rpm]: calculated from a power of 2860 W, overlaid with a normally distributed noise;\n",
    "\n",
    "Torque [Nm]: torque values are normally distributed around 40 Nm with a standard deviation of 10 Nm and no negative values;\n",
    "\n",
    "Tool wear [min]: The quality variants H/M/L add 5/3/2 minutes of tool wear to the used tool in the process;\n",
    "\n",
    "Machine failure: label that indicates, machine has failed for any of the following failure modes:\n",
    "\n",
    "Tool wear failure (TWF): the tool will be replaced of fail by tool wear time (200 - 240 mins);\n",
    "\n",
    "Heat dissipation failure (HDF): heat dissipation causes a process failure, if the difference between air- and process temperature is below 8.6 K and the tools rotational speed is below 1380 rpm;\n",
    "\n",
    "Power failure (PWF):the product of torque and rotational speed (in rad/s) equals the power required for the process. If this power is below 3500 W or above 9000 W, the process fails;\n",
    "\n",
    "Overstrain failure (OSF): if the product of tool wear and torque exceeds 11,000 minNm for the L product variant (12,000 M, 13,000 H), the process fails due to overstrain;\n",
    "\n",
    "Random failures (RNF): each process has a chance of 0,1 % to fail regardless of its process parameters.  \n",
    "\n",
    "Target:\n",
    "\n",
    "Machine failure: 0 or 1:\n",
    "\n",
    "TWF: 0 or 1"
   ]
  },
  {
   "cell_type": "markdown",
   "metadata": {},
   "source": [
    "Import Library"
   ]
  },
  {
   "cell_type": "code",
   "execution_count": 2,
   "metadata": {
    "id": "K02xxkhrOZ_H",
    "tags": [],
    "ExecuteTime": {
     "end_time": "2023-12-03T14:28:56.099521900Z",
     "start_time": "2023-12-03T14:28:55.997532800Z"
    }
   },
   "outputs": [],
   "source": [
    "import pandas as pd\n",
    "import numpy as np\n",
    "import seaborn as sns\n",
    "import matplotlib.pyplot as plt\n",
    "import plotly.express as px\n"
   ]
  },
  {
   "cell_type": "markdown",
   "metadata": {
    "id": "Zr7AU6hZuV9J"
   },
   "source": [
    "Importing Dataset"
   ]
  },
  {
   "cell_type": "code",
   "execution_count": 3,
   "metadata": {
    "scrolled": true,
    "tags": [],
    "ExecuteTime": {
     "end_time": "2023-12-03T14:28:57.524358900Z",
     "start_time": "2023-12-03T14:28:57.464766500Z"
    }
   },
   "outputs": [
    {
     "data": {
      "text/plain": "   UDI Product ID Type  Air temperature [K]  Process temperature [K]  \\\n0    1     M14860    M                298.1                    308.6   \n1    2     L47181    L                298.2                    308.7   \n2    3     L47182    L                298.1                    308.5   \n3    4     L47183    L                298.2                    308.6   \n4    5     L47184    L                298.2                    308.7   \n\n   Rotational speed [rpm]  Torque [Nm]  Tool wear [min]  Machine failure  TWF  \\\n0                    1551         42.8                0                0    0   \n1                    1408         46.3                3                0    0   \n2                    1498         49.4                5                0    0   \n3                    1433         39.5                7                0    0   \n4                    1408         40.0                9                0    0   \n\n   HDF  PWF  OSF  RNF  \n0    0    0    0    0  \n1    0    0    0    0  \n2    0    0    0    0  \n3    0    0    0    0  \n4    0    0    0    0  ",
      "text/html": "<div>\n<style scoped>\n    .dataframe tbody tr th:only-of-type {\n        vertical-align: middle;\n    }\n\n    .dataframe tbody tr th {\n        vertical-align: top;\n    }\n\n    .dataframe thead th {\n        text-align: right;\n    }\n</style>\n<table border=\"1\" class=\"dataframe\">\n  <thead>\n    <tr style=\"text-align: right;\">\n      <th></th>\n      <th>UDI</th>\n      <th>Product ID</th>\n      <th>Type</th>\n      <th>Air temperature [K]</th>\n      <th>Process temperature [K]</th>\n      <th>Rotational speed [rpm]</th>\n      <th>Torque [Nm]</th>\n      <th>Tool wear [min]</th>\n      <th>Machine failure</th>\n      <th>TWF</th>\n      <th>HDF</th>\n      <th>PWF</th>\n      <th>OSF</th>\n      <th>RNF</th>\n    </tr>\n  </thead>\n  <tbody>\n    <tr>\n      <th>0</th>\n      <td>1</td>\n      <td>M14860</td>\n      <td>M</td>\n      <td>298.1</td>\n      <td>308.6</td>\n      <td>1551</td>\n      <td>42.8</td>\n      <td>0</td>\n      <td>0</td>\n      <td>0</td>\n      <td>0</td>\n      <td>0</td>\n      <td>0</td>\n      <td>0</td>\n    </tr>\n    <tr>\n      <th>1</th>\n      <td>2</td>\n      <td>L47181</td>\n      <td>L</td>\n      <td>298.2</td>\n      <td>308.7</td>\n      <td>1408</td>\n      <td>46.3</td>\n      <td>3</td>\n      <td>0</td>\n      <td>0</td>\n      <td>0</td>\n      <td>0</td>\n      <td>0</td>\n      <td>0</td>\n    </tr>\n    <tr>\n      <th>2</th>\n      <td>3</td>\n      <td>L47182</td>\n      <td>L</td>\n      <td>298.1</td>\n      <td>308.5</td>\n      <td>1498</td>\n      <td>49.4</td>\n      <td>5</td>\n      <td>0</td>\n      <td>0</td>\n      <td>0</td>\n      <td>0</td>\n      <td>0</td>\n      <td>0</td>\n    </tr>\n    <tr>\n      <th>3</th>\n      <td>4</td>\n      <td>L47183</td>\n      <td>L</td>\n      <td>298.2</td>\n      <td>308.6</td>\n      <td>1433</td>\n      <td>39.5</td>\n      <td>7</td>\n      <td>0</td>\n      <td>0</td>\n      <td>0</td>\n      <td>0</td>\n      <td>0</td>\n      <td>0</td>\n    </tr>\n    <tr>\n      <th>4</th>\n      <td>5</td>\n      <td>L47184</td>\n      <td>L</td>\n      <td>298.2</td>\n      <td>308.7</td>\n      <td>1408</td>\n      <td>40.0</td>\n      <td>9</td>\n      <td>0</td>\n      <td>0</td>\n      <td>0</td>\n      <td>0</td>\n      <td>0</td>\n      <td>0</td>\n    </tr>\n  </tbody>\n</table>\n</div>"
     },
     "execution_count": 3,
     "metadata": {},
     "output_type": "execute_result"
    }
   ],
   "source": [
    "df = pd.read_csv(\"ai4i2020.csv\")\n",
    "df.head()"
   ]
  },
  {
   "cell_type": "markdown",
   "metadata": {
    "tags": []
   },
   "source": [
    "Describing dataset"
   ]
  },
  {
   "cell_type": "code",
   "execution_count": 9,
   "metadata": {
    "ExecuteTime": {
     "end_time": "2023-11-19T14:56:28.799196500Z",
     "start_time": "2023-11-19T14:56:28.775568500Z"
    },
    "scrolled": false,
    "tags": []
   },
   "outputs": [
    {
     "data": {
      "text/html": [
       "<div>\n",
       "<style scoped>\n",
       "    .dataframe tbody tr th:only-of-type {\n",
       "        vertical-align: middle;\n",
       "    }\n",
       "\n",
       "    .dataframe tbody tr th {\n",
       "        vertical-align: top;\n",
       "    }\n",
       "\n",
       "    .dataframe thead th {\n",
       "        text-align: right;\n",
       "    }\n",
       "</style>\n",
       "<table border=\"1\" class=\"dataframe\">\n",
       "  <thead>\n",
       "    <tr style=\"text-align: right;\">\n",
       "      <th></th>\n",
       "      <th>count</th>\n",
       "      <th>mean</th>\n",
       "      <th>std</th>\n",
       "      <th>min</th>\n",
       "      <th>50%</th>\n",
       "      <th>max</th>\n",
       "    </tr>\n",
       "  </thead>\n",
       "  <tbody>\n",
       "    <tr>\n",
       "      <th>UDI</th>\n",
       "      <td>10000.0</td>\n",
       "      <td>5000.50000</td>\n",
       "      <td>2886.895680</td>\n",
       "      <td>1.0</td>\n",
       "      <td>5000.5</td>\n",
       "      <td>10000.0</td>\n",
       "    </tr>\n",
       "    <tr>\n",
       "      <th>Air temperature [K]</th>\n",
       "      <td>10000.0</td>\n",
       "      <td>300.00493</td>\n",
       "      <td>2.000259</td>\n",
       "      <td>295.3</td>\n",
       "      <td>300.1</td>\n",
       "      <td>304.5</td>\n",
       "    </tr>\n",
       "    <tr>\n",
       "      <th>Process temperature [K]</th>\n",
       "      <td>10000.0</td>\n",
       "      <td>310.00556</td>\n",
       "      <td>1.483734</td>\n",
       "      <td>305.7</td>\n",
       "      <td>310.1</td>\n",
       "      <td>313.8</td>\n",
       "    </tr>\n",
       "    <tr>\n",
       "      <th>Rotational speed [rpm]</th>\n",
       "      <td>10000.0</td>\n",
       "      <td>1538.77610</td>\n",
       "      <td>179.284096</td>\n",
       "      <td>1168.0</td>\n",
       "      <td>1503.0</td>\n",
       "      <td>2886.0</td>\n",
       "    </tr>\n",
       "    <tr>\n",
       "      <th>Torque [Nm]</th>\n",
       "      <td>10000.0</td>\n",
       "      <td>39.98691</td>\n",
       "      <td>9.968934</td>\n",
       "      <td>3.8</td>\n",
       "      <td>40.1</td>\n",
       "      <td>76.6</td>\n",
       "    </tr>\n",
       "    <tr>\n",
       "      <th>Tool wear [min]</th>\n",
       "      <td>10000.0</td>\n",
       "      <td>107.95100</td>\n",
       "      <td>63.654147</td>\n",
       "      <td>0.0</td>\n",
       "      <td>108.0</td>\n",
       "      <td>253.0</td>\n",
       "    </tr>\n",
       "    <tr>\n",
       "      <th>Machine failure</th>\n",
       "      <td>10000.0</td>\n",
       "      <td>0.03390</td>\n",
       "      <td>0.180981</td>\n",
       "      <td>0.0</td>\n",
       "      <td>0.0</td>\n",
       "      <td>1.0</td>\n",
       "    </tr>\n",
       "    <tr>\n",
       "      <th>TWF</th>\n",
       "      <td>10000.0</td>\n",
       "      <td>0.00460</td>\n",
       "      <td>0.067671</td>\n",
       "      <td>0.0</td>\n",
       "      <td>0.0</td>\n",
       "      <td>1.0</td>\n",
       "    </tr>\n",
       "    <tr>\n",
       "      <th>HDF</th>\n",
       "      <td>10000.0</td>\n",
       "      <td>0.01150</td>\n",
       "      <td>0.106625</td>\n",
       "      <td>0.0</td>\n",
       "      <td>0.0</td>\n",
       "      <td>1.0</td>\n",
       "    </tr>\n",
       "    <tr>\n",
       "      <th>PWF</th>\n",
       "      <td>10000.0</td>\n",
       "      <td>0.00950</td>\n",
       "      <td>0.097009</td>\n",
       "      <td>0.0</td>\n",
       "      <td>0.0</td>\n",
       "      <td>1.0</td>\n",
       "    </tr>\n",
       "    <tr>\n",
       "      <th>OSF</th>\n",
       "      <td>10000.0</td>\n",
       "      <td>0.00980</td>\n",
       "      <td>0.098514</td>\n",
       "      <td>0.0</td>\n",
       "      <td>0.0</td>\n",
       "      <td>1.0</td>\n",
       "    </tr>\n",
       "    <tr>\n",
       "      <th>RNF</th>\n",
       "      <td>10000.0</td>\n",
       "      <td>0.00190</td>\n",
       "      <td>0.043550</td>\n",
       "      <td>0.0</td>\n",
       "      <td>0.0</td>\n",
       "      <td>1.0</td>\n",
       "    </tr>\n",
       "  </tbody>\n",
       "</table>\n",
       "</div>"
      ],
      "text/plain": [
       "                           count        mean          std     min     50%  \\\n",
       "UDI                      10000.0  5000.50000  2886.895680     1.0  5000.5   \n",
       "Air temperature [K]      10000.0   300.00493     2.000259   295.3   300.1   \n",
       "Process temperature [K]  10000.0   310.00556     1.483734   305.7   310.1   \n",
       "Rotational speed [rpm]   10000.0  1538.77610   179.284096  1168.0  1503.0   \n",
       "Torque [Nm]              10000.0    39.98691     9.968934     3.8    40.1   \n",
       "Tool wear [min]          10000.0   107.95100    63.654147     0.0   108.0   \n",
       "Machine failure          10000.0     0.03390     0.180981     0.0     0.0   \n",
       "TWF                      10000.0     0.00460     0.067671     0.0     0.0   \n",
       "HDF                      10000.0     0.01150     0.106625     0.0     0.0   \n",
       "PWF                      10000.0     0.00950     0.097009     0.0     0.0   \n",
       "OSF                      10000.0     0.00980     0.098514     0.0     0.0   \n",
       "RNF                      10000.0     0.00190     0.043550     0.0     0.0   \n",
       "\n",
       "                             max  \n",
       "UDI                      10000.0  \n",
       "Air temperature [K]        304.5  \n",
       "Process temperature [K]    313.8  \n",
       "Rotational speed [rpm]    2886.0  \n",
       "Torque [Nm]                 76.6  \n",
       "Tool wear [min]            253.0  \n",
       "Machine failure              1.0  \n",
       "TWF                          1.0  \n",
       "HDF                          1.0  \n",
       "PWF                          1.0  \n",
       "OSF                          1.0  \n",
       "RNF                          1.0  "
      ]
     },
     "execution_count": 9,
     "metadata": {},
     "output_type": "execute_result"
    }
   ],
   "source": [
    "df.describe(percentiles=[]).T"
   ]
  },
  {
   "cell_type": "code",
   "execution_count": 10,
   "metadata": {
    "ExecuteTime": {
     "end_time": "2023-11-19T14:56:29.467195700Z",
     "start_time": "2023-11-19T14:56:29.451985900Z"
    },
    "tags": []
   },
   "outputs": [
    {
     "name": "stdout",
     "output_type": "stream",
     "text": [
      "<class 'pandas.core.frame.DataFrame'>\n",
      "RangeIndex: 10000 entries, 0 to 9999\n",
      "Data columns (total 14 columns):\n",
      " #   Column                   Non-Null Count  Dtype  \n",
      "---  ------                   --------------  -----  \n",
      " 0   UDI                      10000 non-null  int64  \n",
      " 1   Product ID               10000 non-null  object \n",
      " 2   Type                     10000 non-null  object \n",
      " 3   Air temperature [K]      10000 non-null  float64\n",
      " 4   Process temperature [K]  10000 non-null  float64\n",
      " 5   Rotational speed [rpm]   10000 non-null  int64  \n",
      " 6   Torque [Nm]              10000 non-null  float64\n",
      " 7   Tool wear [min]          10000 non-null  int64  \n",
      " 8   Machine failure          10000 non-null  int64  \n",
      " 9   TWF                      10000 non-null  int64  \n",
      " 10  HDF                      10000 non-null  int64  \n",
      " 11  PWF                      10000 non-null  int64  \n",
      " 12  OSF                      10000 non-null  int64  \n",
      " 13  RNF                      10000 non-null  int64  \n",
      "dtypes: float64(3), int64(9), object(2)\n",
      "memory usage: 1.1+ MB\n"
     ]
    }
   ],
   "source": [
    "df.info()"
   ]
  },
  {
   "cell_type": "markdown",
   "metadata": {},
   "source": [
    "Features --- Calculate the Delta Temperature and the Power of machine (watts)"
   ]
  },
  {
   "cell_type": "code",
   "execution_count": 9,
   "metadata": {
    "tags": [],
    "ExecuteTime": {
     "end_time": "2023-12-03T14:29:36.956749500Z",
     "start_time": "2023-12-03T14:29:36.926726Z"
    }
   },
   "outputs": [],
   "source": [
    "df['Temp_Delta']=df['Process temperature [K]']-df['Air temperature [K]']\n",
    "df['Power'] = 2 * np.pi * df['Rotational speed [rpm]'] * df['Torque [Nm]'] / 60"
   ]
  },
  {
   "cell_type": "code",
   "execution_count": 10,
   "metadata": {
    "ExecuteTime": {
     "end_time": "2023-12-03T14:29:37.349440600Z",
     "start_time": "2023-12-03T14:29:37.325686700Z"
    }
   },
   "outputs": [
    {
     "data": {
      "text/plain": "   UDI Product ID Type  Air temperature [K]  Process temperature [K]  \\\n0    1     M14860    M                298.1                    308.6   \n1    2     L47181    L                298.2                    308.7   \n2    3     L47182    L                298.1                    308.5   \n3    4     L47183    L                298.2                    308.6   \n4    5     L47184    L                298.2                    308.7   \n\n   Rotational speed [rpm]  Torque [Nm]  Tool wear [min]  Machine failure  TWF  \\\n0                    1551         42.8                0                0    0   \n1                    1408         46.3                3                0    0   \n2                    1498         49.4                5                0    0   \n3                    1433         39.5                7                0    0   \n4                    1408         40.0                9                0    0   \n\n   HDF  PWF  OSF  RNF  Temp_Delta        Power  Planned_Stop  Time/Part  \n0    0    0    0    0        10.5  6951.590560             0          3  \n1    0    0    0    0        10.5  6826.722724             0          2  \n2    0    0    0    0        10.4  7749.387543             0          2  \n3    0    0    0    0        10.4  5927.504659             0          2  \n4    0    0    0    0        10.5  5897.816608             0          2  ",
      "text/html": "<div>\n<style scoped>\n    .dataframe tbody tr th:only-of-type {\n        vertical-align: middle;\n    }\n\n    .dataframe tbody tr th {\n        vertical-align: top;\n    }\n\n    .dataframe thead th {\n        text-align: right;\n    }\n</style>\n<table border=\"1\" class=\"dataframe\">\n  <thead>\n    <tr style=\"text-align: right;\">\n      <th></th>\n      <th>UDI</th>\n      <th>Product ID</th>\n      <th>Type</th>\n      <th>Air temperature [K]</th>\n      <th>Process temperature [K]</th>\n      <th>Rotational speed [rpm]</th>\n      <th>Torque [Nm]</th>\n      <th>Tool wear [min]</th>\n      <th>Machine failure</th>\n      <th>TWF</th>\n      <th>HDF</th>\n      <th>PWF</th>\n      <th>OSF</th>\n      <th>RNF</th>\n      <th>Temp_Delta</th>\n      <th>Power</th>\n      <th>Planned_Stop</th>\n      <th>Time/Part</th>\n    </tr>\n  </thead>\n  <tbody>\n    <tr>\n      <th>0</th>\n      <td>1</td>\n      <td>M14860</td>\n      <td>M</td>\n      <td>298.1</td>\n      <td>308.6</td>\n      <td>1551</td>\n      <td>42.8</td>\n      <td>0</td>\n      <td>0</td>\n      <td>0</td>\n      <td>0</td>\n      <td>0</td>\n      <td>0</td>\n      <td>0</td>\n      <td>10.5</td>\n      <td>6951.590560</td>\n      <td>0</td>\n      <td>3</td>\n    </tr>\n    <tr>\n      <th>1</th>\n      <td>2</td>\n      <td>L47181</td>\n      <td>L</td>\n      <td>298.2</td>\n      <td>308.7</td>\n      <td>1408</td>\n      <td>46.3</td>\n      <td>3</td>\n      <td>0</td>\n      <td>0</td>\n      <td>0</td>\n      <td>0</td>\n      <td>0</td>\n      <td>0</td>\n      <td>10.5</td>\n      <td>6826.722724</td>\n      <td>0</td>\n      <td>2</td>\n    </tr>\n    <tr>\n      <th>2</th>\n      <td>3</td>\n      <td>L47182</td>\n      <td>L</td>\n      <td>298.1</td>\n      <td>308.5</td>\n      <td>1498</td>\n      <td>49.4</td>\n      <td>5</td>\n      <td>0</td>\n      <td>0</td>\n      <td>0</td>\n      <td>0</td>\n      <td>0</td>\n      <td>0</td>\n      <td>10.4</td>\n      <td>7749.387543</td>\n      <td>0</td>\n      <td>2</td>\n    </tr>\n    <tr>\n      <th>3</th>\n      <td>4</td>\n      <td>L47183</td>\n      <td>L</td>\n      <td>298.2</td>\n      <td>308.6</td>\n      <td>1433</td>\n      <td>39.5</td>\n      <td>7</td>\n      <td>0</td>\n      <td>0</td>\n      <td>0</td>\n      <td>0</td>\n      <td>0</td>\n      <td>0</td>\n      <td>10.4</td>\n      <td>5927.504659</td>\n      <td>0</td>\n      <td>2</td>\n    </tr>\n    <tr>\n      <th>4</th>\n      <td>5</td>\n      <td>L47184</td>\n      <td>L</td>\n      <td>298.2</td>\n      <td>308.7</td>\n      <td>1408</td>\n      <td>40.0</td>\n      <td>9</td>\n      <td>0</td>\n      <td>0</td>\n      <td>0</td>\n      <td>0</td>\n      <td>0</td>\n      <td>0</td>\n      <td>10.5</td>\n      <td>5897.816608</td>\n      <td>0</td>\n      <td>2</td>\n    </tr>\n  </tbody>\n</table>\n</div>"
     },
     "execution_count": 10,
     "metadata": {},
     "output_type": "execute_result"
    }
   ],
   "source": [
    "df.head()"
   ]
  },
  {
   "cell_type": "markdown",
   "metadata": {},
   "source": [
    "Adding the time for each part"
   ]
  },
  {
   "cell_type": "code",
   "execution_count": 11,
   "metadata": {
    "tags": [],
    "ExecuteTime": {
     "end_time": "2023-12-03T14:29:38.151894700Z",
     "start_time": "2023-12-03T14:29:38.139260200Z"
    }
   },
   "outputs": [],
   "source": [
    "label = {'L':2,'M':3,'H':5}\n",
    "\n",
    "df['Time/Part'] = df['Type'].map(label)"
   ]
  },
  {
   "cell_type": "code",
   "execution_count": 12,
   "metadata": {
    "id": "XeXhY8EU5K3G",
    "tags": [],
    "ExecuteTime": {
     "end_time": "2023-12-03T14:29:38.693774500Z",
     "start_time": "2023-12-03T14:29:38.675760800Z"
    }
   },
   "outputs": [],
   "source": [
    "num_data = ['Air temperature [K]','Process temperature [K]','Rotational speed [rpm]','Torque [Nm]','Tool wear [min]','Temp_Delta', 'Power']\n",
    "categorical = ['Type', 'Time/Part']\n",
    "type_of_failure = ['HDF','PWF','OSF','RNF']\n",
    "\n",
    "target1 = ['Failures']\n",
    "target2 = ['TWF']"
   ]
  },
  {
   "cell_type": "code",
   "execution_count": 13,
   "metadata": {
    "scrolled": true,
    "tags": [],
    "ExecuteTime": {
     "end_time": "2023-12-03T14:29:39.145043Z",
     "start_time": "2023-12-03T14:29:39.123689200Z"
    }
   },
   "outputs": [
    {
     "data": {
      "text/plain": "   UDI Product ID Type  Air temperature [K]  Process temperature [K]  \\\n0    1     M14860    M                298.1                    308.6   \n1    2     L47181    L                298.2                    308.7   \n2    3     L47182    L                298.1                    308.5   \n3    4     L47183    L                298.2                    308.6   \n4    5     L47184    L                298.2                    308.7   \n\n   Rotational speed [rpm]  Torque [Nm]  Tool wear [min]  Machine failure  TWF  \\\n0                    1551         42.8                0                0    0   \n1                    1408         46.3                3                0    0   \n2                    1498         49.4                5                0    0   \n3                    1433         39.5                7                0    0   \n4                    1408         40.0                9                0    0   \n\n   HDF  PWF  OSF  RNF  Temp_Delta        Power  Planned_Stop  Time/Part  \n0    0    0    0    0        10.5  6951.590560             0          3  \n1    0    0    0    0        10.5  6826.722724             0          2  \n2    0    0    0    0        10.4  7749.387543             0          2  \n3    0    0    0    0        10.4  5927.504659             0          2  \n4    0    0    0    0        10.5  5897.816608             0          2  ",
      "text/html": "<div>\n<style scoped>\n    .dataframe tbody tr th:only-of-type {\n        vertical-align: middle;\n    }\n\n    .dataframe tbody tr th {\n        vertical-align: top;\n    }\n\n    .dataframe thead th {\n        text-align: right;\n    }\n</style>\n<table border=\"1\" class=\"dataframe\">\n  <thead>\n    <tr style=\"text-align: right;\">\n      <th></th>\n      <th>UDI</th>\n      <th>Product ID</th>\n      <th>Type</th>\n      <th>Air temperature [K]</th>\n      <th>Process temperature [K]</th>\n      <th>Rotational speed [rpm]</th>\n      <th>Torque [Nm]</th>\n      <th>Tool wear [min]</th>\n      <th>Machine failure</th>\n      <th>TWF</th>\n      <th>HDF</th>\n      <th>PWF</th>\n      <th>OSF</th>\n      <th>RNF</th>\n      <th>Temp_Delta</th>\n      <th>Power</th>\n      <th>Planned_Stop</th>\n      <th>Time/Part</th>\n    </tr>\n  </thead>\n  <tbody>\n    <tr>\n      <th>0</th>\n      <td>1</td>\n      <td>M14860</td>\n      <td>M</td>\n      <td>298.1</td>\n      <td>308.6</td>\n      <td>1551</td>\n      <td>42.8</td>\n      <td>0</td>\n      <td>0</td>\n      <td>0</td>\n      <td>0</td>\n      <td>0</td>\n      <td>0</td>\n      <td>0</td>\n      <td>10.5</td>\n      <td>6951.590560</td>\n      <td>0</td>\n      <td>3</td>\n    </tr>\n    <tr>\n      <th>1</th>\n      <td>2</td>\n      <td>L47181</td>\n      <td>L</td>\n      <td>298.2</td>\n      <td>308.7</td>\n      <td>1408</td>\n      <td>46.3</td>\n      <td>3</td>\n      <td>0</td>\n      <td>0</td>\n      <td>0</td>\n      <td>0</td>\n      <td>0</td>\n      <td>0</td>\n      <td>10.5</td>\n      <td>6826.722724</td>\n      <td>0</td>\n      <td>2</td>\n    </tr>\n    <tr>\n      <th>2</th>\n      <td>3</td>\n      <td>L47182</td>\n      <td>L</td>\n      <td>298.1</td>\n      <td>308.5</td>\n      <td>1498</td>\n      <td>49.4</td>\n      <td>5</td>\n      <td>0</td>\n      <td>0</td>\n      <td>0</td>\n      <td>0</td>\n      <td>0</td>\n      <td>0</td>\n      <td>10.4</td>\n      <td>7749.387543</td>\n      <td>0</td>\n      <td>2</td>\n    </tr>\n    <tr>\n      <th>3</th>\n      <td>4</td>\n      <td>L47183</td>\n      <td>L</td>\n      <td>298.2</td>\n      <td>308.6</td>\n      <td>1433</td>\n      <td>39.5</td>\n      <td>7</td>\n      <td>0</td>\n      <td>0</td>\n      <td>0</td>\n      <td>0</td>\n      <td>0</td>\n      <td>0</td>\n      <td>10.4</td>\n      <td>5927.504659</td>\n      <td>0</td>\n      <td>2</td>\n    </tr>\n    <tr>\n      <th>4</th>\n      <td>5</td>\n      <td>L47184</td>\n      <td>L</td>\n      <td>298.2</td>\n      <td>308.7</td>\n      <td>1408</td>\n      <td>40.0</td>\n      <td>9</td>\n      <td>0</td>\n      <td>0</td>\n      <td>0</td>\n      <td>0</td>\n      <td>0</td>\n      <td>0</td>\n      <td>10.5</td>\n      <td>5897.816608</td>\n      <td>0</td>\n      <td>2</td>\n    </tr>\n  </tbody>\n</table>\n</div>"
     },
     "execution_count": 13,
     "metadata": {},
     "output_type": "execute_result"
    }
   ],
   "source": [
    "df.head()"
   ]
  },
  {
   "cell_type": "code",
   "execution_count": 14,
   "metadata": {
    "ExecuteTime": {
     "end_time": "2023-12-03T14:29:39.825101300Z",
     "start_time": "2023-12-03T14:29:39.536852100Z"
    }
   },
   "outputs": [
    {
     "data": {
      "text/plain": "<Figure size 400x400 with 1 Axes>",
      "image/png": "[encoded data removed]"
     },
     "metadata": {},
     "output_type": "display_data"
    }
   ],
   "source": [
    "plt.figure(figsize=(4,4))\n",
    "f = sns.countplot(data = df, x = categorical[0])\n",
    "f.bar_label(f.containers[0])\n",
    "plt.show()"
   ]
  },
  {
   "cell_type": "code",
   "execution_count": 15,
   "metadata": {
    "ExecuteTime": {
     "end_time": "2023-12-03T14:29:40.890384100Z",
     "start_time": "2023-12-03T14:29:40.870740900Z"
    }
   },
   "outputs": [
    {
     "name": "stdout",
     "output_type": "stream",
     "text": [
      "TWF: 46\n",
      "HDF: 115\n",
      "PWF: 95\n",
      "OSF: 98\n",
      "RNF: 19\n"
     ]
    }
   ],
   "source": [
    "print('TWF:',df['TWF'].sum())\n",
    "print('HDF:',df['HDF'].sum())\n",
    "print('PWF:',df['PWF'].sum())\n",
    "print('OSF:',df['OSF'].sum())\n",
    "print('RNF:',df['RNF'].sum())"
   ]
  },
  {
   "cell_type": "markdown",
   "metadata": {
    "id": "kDUJoZLCiavu"
   },
   "source": [
    "# CLEANING DATABASE"
   ]
  },
  {
   "cell_type": "code",
   "execution_count": 16,
   "metadata": {
    "id": "A_hgJPlpiiuC",
    "outputId": "fd5aec02-6ee6-4c21-c2dd-c280c672e93b",
    "scrolled": true,
    "tags": [],
    "ExecuteTime": {
     "end_time": "2023-12-03T14:29:42.080416300Z",
     "start_time": "2023-12-03T14:29:42.051309Z"
    }
   },
   "outputs": [
    {
     "data": {
      "text/plain": "UDI                        0\nProduct ID                 0\nType                       0\nAir temperature [K]        0\nProcess temperature [K]    0\nRotational speed [rpm]     0\nTorque [Nm]                0\nTool wear [min]            0\nMachine failure            0\nTWF                        0\nHDF                        0\nPWF                        0\nOSF                        0\nRNF                        0\nTemp_Delta                 0\nPower                      0\nPlanned_Stop               0\nTime/Part                  0\ndtype: int64"
     },
     "execution_count": 16,
     "metadata": {},
     "output_type": "execute_result"
    }
   ],
   "source": [
    "df.isnull().sum()"
   ]
  },
  {
   "cell_type": "code",
   "execution_count": 17,
   "metadata": {
    "id": "gxEQmYpYitvF",
    "outputId": "b6fffa0d-912e-432b-ab62-3b6c902b110a",
    "tags": [],
    "ExecuteTime": {
     "end_time": "2023-12-03T14:29:42.737594200Z",
     "start_time": "2023-12-03T14:29:42.711718900Z"
    }
   },
   "outputs": [
    {
     "data": {
      "text/plain": "0"
     },
     "execution_count": 17,
     "metadata": {},
     "output_type": "execute_result"
    }
   ],
   "source": [
    "df.duplicated().sum()"
   ]
  },
  {
   "cell_type": "code",
   "execution_count": 18,
   "metadata": {
    "tags": [],
    "ExecuteTime": {
     "end_time": "2023-12-03T14:29:43.345542200Z",
     "start_time": "2023-12-03T14:29:43.319976800Z"
    }
   },
   "outputs": [
    {
     "data": {
      "text/plain": "339"
     },
     "execution_count": 18,
     "metadata": {},
     "output_type": "execute_result"
    }
   ],
   "source": [
    "df['Machine failure'].sum()"
   ]
  },
  {
   "cell_type": "code",
   "execution_count": 19,
   "metadata": {
    "tags": [],
    "ExecuteTime": {
     "end_time": "2023-12-03T14:29:44.018457Z",
     "start_time": "2023-12-03T14:29:44.006412400Z"
    }
   },
   "outputs": [
    {
     "data": {
      "text/plain": "46"
     },
     "execution_count": 19,
     "metadata": {},
     "output_type": "execute_result"
    }
   ],
   "source": [
    "df['TWF'].sum()"
   ]
  },
  {
   "cell_type": "code",
   "execution_count": 20,
   "metadata": {
    "tags": [],
    "ExecuteTime": {
     "end_time": "2023-12-03T14:29:44.517236100Z",
     "start_time": "2023-12-03T14:29:44.506153300Z"
    }
   },
   "outputs": [
    {
     "data": {
      "text/plain": "293"
     },
     "execution_count": 20,
     "metadata": {},
     "output_type": "execute_result"
    }
   ],
   "source": [
    "df['Failures'] =  df['Machine failure'] - df['TWF']\n",
    "df['Failures'].sum()"
   ]
  },
  {
   "cell_type": "code",
   "execution_count": 21,
   "metadata": {
    "ExecuteTime": {
     "end_time": "2023-12-03T14:29:45.524353900Z",
     "start_time": "2023-12-03T14:29:45.462653700Z"
    }
   },
   "outputs": [
    {
     "data": {
      "text/plain": "64"
     },
     "execution_count": 21,
     "metadata": {},
     "output_type": "execute_result"
    }
   ],
   "source": [
    "df['Planned_Stop'] = 0\n",
    "\n",
    "for i in range(1, len(df)):\n",
    "    if df['Tool wear [min]'][i] < df['Tool wear [min]'][i - 1] and df['Failures'][i-1] == 0 and df['TWF'][i-1] == 0:\n",
    "        df.at[i-1, 'Planned_Stop'] = 1\n",
    "\n",
    "df.loc[(df['Failures'] == 1) & (df['Planned_Stop']==1), 'Planned_Stop'] = 0\n",
    "        \n",
    "df['Planned_Stop'].sum()"
   ]
  },
  {
   "cell_type": "code",
   "execution_count": 22,
   "metadata": {
    "ExecuteTime": {
     "end_time": "2023-12-03T14:29:57.791008600Z",
     "start_time": "2023-12-03T14:29:57.777510700Z"
    }
   },
   "outputs": [
    {
     "data": {
      "text/plain": "403"
     },
     "execution_count": 22,
     "metadata": {},
     "output_type": "execute_result"
    }
   ],
   "source": [
    "total_break = df['Planned_Stop'].sum() + df['Failures'].sum() + df['TWF'].sum()\n",
    "total_break"
   ]
  },
  {
   "cell_type": "code",
   "execution_count": 23,
   "metadata": {
    "tags": [],
    "ExecuteTime": {
     "end_time": "2023-12-03T14:30:15.375488Z",
     "start_time": "2023-12-03T14:30:15.359628400Z"
    }
   },
   "outputs": [],
   "source": [
    "df= df.drop(columns=['Product ID','Machine failure','HDF','PWF','OSF','RNF'])"
   ]
  },
  {
   "cell_type": "code",
   "execution_count": 24,
   "metadata": {
    "tags": [],
    "ExecuteTime": {
     "end_time": "2023-12-03T14:30:15.674653800Z",
     "start_time": "2023-12-03T14:30:15.629166300Z"
    }
   },
   "outputs": [
    {
     "data": {
      "text/plain": "       UDI Type  Air temperature [K]  Process temperature [K]  \\\n3167  3168    L                300.4                    309.7   \n5020  5021    L                304.1                    313.1   \n993    994    M                296.1                    307.1   \n5318  5319    L                303.5                    312.6   \n8896  8897    L                297.4                    308.7   \n3033  3034    M                300.6                    309.7   \n5907  5908    H                300.8                    310.4   \n7541  7542    M                300.3                    311.5   \n9566  9567    L                299.8                    311.1   \n9907  9908    M                298.6                    309.1   \n\n      Rotational speed [rpm]  Torque [Nm]  Tool wear [min]  TWF  Temp_Delta  \\\n3167                    1384         45.1              159    0         9.3   \n5020                    1556         36.3               86    0         9.0   \n993                     1485         36.0              169    0        11.0   \n5318                    1496         39.0               21    0         9.1   \n8896                    1638         31.9              131    0        11.3   \n3033                    1934         22.8               15    0         9.1   \n5907                    1419         46.4              200    0         9.6   \n7541                    1528         40.9               76    0        11.2   \n9566                    1603         35.1              179    0        11.3   \n9907                    1487         43.2              206    0        10.5   \n\n            Power  Planned_Stop  Time/Part  Failures  \n3167  6536.439563             0          2         0  \n5020  5914.864984             0          2         0  \n993   5598.318109             0          3         0  \n5318  6109.769393             0          2         0  \n8896  5471.837588             0          2         0  \n3033  4617.638546             0          3         0  \n5907  6894.916229             0          5         0  \n7541  6544.482040             0          3         0  \n9566  5892.088438             0          2         0  \n9907  6727.029517             1          3         0  ",
      "text/html": "<div>\n<style scoped>\n    .dataframe tbody tr th:only-of-type {\n        vertical-align: middle;\n    }\n\n    .dataframe tbody tr th {\n        vertical-align: top;\n    }\n\n    .dataframe thead th {\n        text-align: right;\n    }\n</style>\n<table border=\"1\" class=\"dataframe\">\n  <thead>\n    <tr style=\"text-align: right;\">\n      <th></th>\n      <th>UDI</th>\n      <th>Type</th>\n      <th>Air temperature [K]</th>\n      <th>Process temperature [K]</th>\n      <th>Rotational speed [rpm]</th>\n      <th>Torque [Nm]</th>\n      <th>Tool wear [min]</th>\n      <th>TWF</th>\n      <th>Temp_Delta</th>\n      <th>Power</th>\n      <th>Planned_Stop</th>\n      <th>Time/Part</th>\n      <th>Failures</th>\n    </tr>\n  </thead>\n  <tbody>\n    <tr>\n      <th>3167</th>\n      <td>3168</td>\n      <td>L</td>\n      <td>300.4</td>\n      <td>309.7</td>\n      <td>1384</td>\n      <td>45.1</td>\n      <td>159</td>\n      <td>0</td>\n      <td>9.3</td>\n      <td>6536.439563</td>\n      <td>0</td>\n      <td>2</td>\n      <td>0</td>\n    </tr>\n    <tr>\n      <th>5020</th>\n      <td>5021</td>\n      <td>L</td>\n      <td>304.1</td>\n      <td>313.1</td>\n      <td>1556</td>\n      <td>36.3</td>\n      <td>86</td>\n      <td>0</td>\n      <td>9.0</td>\n      <td>5914.864984</td>\n      <td>0</td>\n      <td>2</td>\n      <td>0</td>\n    </tr>\n    <tr>\n      <th>993</th>\n      <td>994</td>\n      <td>M</td>\n      <td>296.1</td>\n      <td>307.1</td>\n      <td>1485</td>\n      <td>36.0</td>\n      <td>169</td>\n      <td>0</td>\n      <td>11.0</td>\n      <td>5598.318109</td>\n      <td>0</td>\n      <td>3</td>\n      <td>0</td>\n    </tr>\n    <tr>\n      <th>5318</th>\n      <td>5319</td>\n      <td>L</td>\n      <td>303.5</td>\n      <td>312.6</td>\n      <td>1496</td>\n      <td>39.0</td>\n      <td>21</td>\n      <td>0</td>\n      <td>9.1</td>\n      <td>6109.769393</td>\n      <td>0</td>\n      <td>2</td>\n      <td>0</td>\n    </tr>\n    <tr>\n      <th>8896</th>\n      <td>8897</td>\n      <td>L</td>\n      <td>297.4</td>\n      <td>308.7</td>\n      <td>1638</td>\n      <td>31.9</td>\n      <td>131</td>\n      <td>0</td>\n      <td>11.3</td>\n      <td>5471.837588</td>\n      <td>0</td>\n      <td>2</td>\n      <td>0</td>\n    </tr>\n    <tr>\n      <th>3033</th>\n      <td>3034</td>\n      <td>M</td>\n      <td>300.6</td>\n      <td>309.7</td>\n      <td>1934</td>\n      <td>22.8</td>\n      <td>15</td>\n      <td>0</td>\n      <td>9.1</td>\n      <td>4617.638546</td>\n      <td>0</td>\n      <td>3</td>\n      <td>0</td>\n    </tr>\n    <tr>\n      <th>5907</th>\n      <td>5908</td>\n      <td>H</td>\n      <td>300.8</td>\n      <td>310.4</td>\n      <td>1419</td>\n      <td>46.4</td>\n      <td>200</td>\n      <td>0</td>\n      <td>9.6</td>\n      <td>6894.916229</td>\n      <td>0</td>\n      <td>5</td>\n      <td>0</td>\n    </tr>\n    <tr>\n      <th>7541</th>\n      <td>7542</td>\n      <td>M</td>\n      <td>300.3</td>\n      <td>311.5</td>\n      <td>1528</td>\n      <td>40.9</td>\n      <td>76</td>\n      <td>0</td>\n      <td>11.2</td>\n      <td>6544.482040</td>\n      <td>0</td>\n      <td>3</td>\n      <td>0</td>\n    </tr>\n    <tr>\n      <th>9566</th>\n      <td>9567</td>\n      <td>L</td>\n      <td>299.8</td>\n      <td>311.1</td>\n      <td>1603</td>\n      <td>35.1</td>\n      <td>179</td>\n      <td>0</td>\n      <td>11.3</td>\n      <td>5892.088438</td>\n      <td>0</td>\n      <td>2</td>\n      <td>0</td>\n    </tr>\n    <tr>\n      <th>9907</th>\n      <td>9908</td>\n      <td>M</td>\n      <td>298.6</td>\n      <td>309.1</td>\n      <td>1487</td>\n      <td>43.2</td>\n      <td>206</td>\n      <td>0</td>\n      <td>10.5</td>\n      <td>6727.029517</td>\n      <td>1</td>\n      <td>3</td>\n      <td>0</td>\n    </tr>\n  </tbody>\n</table>\n</div>"
     },
     "execution_count": 24,
     "metadata": {},
     "output_type": "execute_result"
    }
   ],
   "source": [
    "df.sample(10)"
   ]
  },
  {
   "cell_type": "code",
   "execution_count": 25,
   "metadata": {
    "tags": [],
    "ExecuteTime": {
     "end_time": "2023-12-03T14:30:16.557977800Z",
     "start_time": "2023-12-03T14:30:16.498938300Z"
    }
   },
   "outputs": [],
   "source": [
    "df.to_csv(\"Dataset_Clean.csv\")"
   ]
  },
  {
   "cell_type": "code",
   "execution_count": null,
   "metadata": {
    "is_executing": true
   },
   "outputs": [],
   "source": []
  }
 ],
 "metadata": {
  "kernelspec": {
   "display_name": "Python 3 (ipykernel)",
   "language": "python",
   "name": "python3"
  },
  "language_info": {
   "codemirror_mode": {
    "name": "ipython",
    "version": 3
   },
   "file_extension": ".py",
   "mimetype": "text/x-python",
   "name": "python",
   "nbconvert_exporter": "python",
   "pygments_lexer": "ipython3",
   "version": "3.9.16"
  }
 },
 "nbformat": 4,
 "nbformat_minor": 4
}
