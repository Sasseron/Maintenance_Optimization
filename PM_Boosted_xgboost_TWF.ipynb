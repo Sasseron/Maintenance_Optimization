{
 "cells": [
  {
   "cell_type": "code",
   "execution_count": 19,
   "metadata": {
    "ExecuteTime": {
     "end_time": "2023-11-29T20:15:48.710790Z",
     "start_time": "2023-11-29T20:15:48.692395800Z"
    },
    "id": "2_18TeLltRPZ",
    "tags": []
   },
   "outputs": [],
   "source": [
    "import pandas as pd\n",
    "import seaborn as sns\n",
    "import matplotlib as plt\n",
    "import matplotlib.pyplot as plt\n",
    "import plotly.express as px\n",
    "import numpy as np\n",
    "\n",
    "import warnings\n",
    "warnings.filterwarnings('ignore')\n",
    "from sklearn.tree import DecisionTreeClassifier\n",
    "from sklearn.linear_model import LogisticRegression\n",
    "from sklearn.ensemble import RandomForestClassifier, GradientBoostingClassifier\n",
    "from sklearn.svm import SVC\n",
    "from sklearn.neural_network import MLPClassifier\n",
    "\n",
    "from sklearn.metrics import accuracy_score\n",
    "from sklearn.model_selection import GridSearchCV\n",
    "from sklearn.metrics import f1_score, precision_score, recall_score, accuracy_score,roc_auc_score\n",
    "from sklearn.metrics import accuracy_score, classification_report, confusion_matrix\n",
    "from sklearn.metrics import roc_curve, auc\n",
    "from xgboost import XGBClassifier\n",
    "\n"
   ]
  },
  {
   "cell_type": "code",
   "execution_count": 20,
   "metadata": {
    "ExecuteTime": {
     "end_time": "2023-11-29T20:15:49.148606500Z",
     "start_time": "2023-11-29T20:15:49.095394300Z"
    },
    "tags": []
   },
   "outputs": [],
   "source": [
    "df = pd.read_csv(\"TWF_Boosted.csv\")"
   ]
  },
  {
   "cell_type": "code",
   "execution_count": 21,
   "metadata": {
    "ExecuteTime": {
     "end_time": "2023-11-29T20:15:49.933504100Z",
     "start_time": "2023-11-29T20:15:49.905635900Z"
    },
    "tags": []
   },
   "outputs": [
    {
     "data": {
      "text/html": [
       "<div>\n",
       "<style scoped>\n",
       "    .dataframe tbody tr th:only-of-type {\n",
       "        vertical-align: middle;\n",
       "    }\n",
       "\n",
       "    .dataframe tbody tr th {\n",
       "        vertical-align: top;\n",
       "    }\n",
       "\n",
       "    .dataframe thead th {\n",
       "        text-align: right;\n",
       "    }\n",
       "</style>\n",
       "<table border=\"1\" class=\"dataframe\">\n",
       "  <thead>\n",
       "    <tr style=\"text-align: right;\">\n",
       "      <th></th>\n",
       "      <th>Unnamed: 0</th>\n",
       "      <th>Type</th>\n",
       "      <th>Air temperature [K]</th>\n",
       "      <th>Process temperature [K]</th>\n",
       "      <th>Rotational speed [rpm]</th>\n",
       "      <th>Torque [Nm]</th>\n",
       "      <th>Tool wear [min]</th>\n",
       "      <th>Temp_Delta</th>\n",
       "      <th>Power</th>\n",
       "      <th>Time/Part</th>\n",
       "      <th>TWF</th>\n",
       "    </tr>\n",
       "  </thead>\n",
       "  <tbody>\n",
       "    <tr>\n",
       "      <th>0</th>\n",
       "      <td>0</td>\n",
       "      <td>0.0</td>\n",
       "      <td>298.2</td>\n",
       "      <td>308.4</td>\n",
       "      <td>1388.0</td>\n",
       "      <td>53.8</td>\n",
       "      <td>137.0</td>\n",
       "      <td>10.2</td>\n",
       "      <td>7819.884882</td>\n",
       "      <td>2.0</td>\n",
       "      <td>0</td>\n",
       "    </tr>\n",
       "    <tr>\n",
       "      <th>1</th>\n",
       "      <td>1</td>\n",
       "      <td>1.0</td>\n",
       "      <td>300.9</td>\n",
       "      <td>310.8</td>\n",
       "      <td>1599.0</td>\n",
       "      <td>33.0</td>\n",
       "      <td>7.0</td>\n",
       "      <td>9.9</td>\n",
       "      <td>5525.747318</td>\n",
       "      <td>3.0</td>\n",
       "      <td>0</td>\n",
       "    </tr>\n",
       "    <tr>\n",
       "      <th>2</th>\n",
       "      <td>2</td>\n",
       "      <td>0.0</td>\n",
       "      <td>301.4</td>\n",
       "      <td>310.5</td>\n",
       "      <td>1571.0</td>\n",
       "      <td>33.9</td>\n",
       "      <td>208.0</td>\n",
       "      <td>9.1</td>\n",
       "      <td>5577.049526</td>\n",
       "      <td>2.0</td>\n",
       "      <td>0</td>\n",
       "    </tr>\n",
       "    <tr>\n",
       "      <th>3</th>\n",
       "      <td>3</td>\n",
       "      <td>0.0</td>\n",
       "      <td>300.5</td>\n",
       "      <td>310.5</td>\n",
       "      <td>1373.0</td>\n",
       "      <td>47.4</td>\n",
       "      <td>56.0</td>\n",
       "      <td>10.0</td>\n",
       "      <td>6815.182607</td>\n",
       "      <td>2.0</td>\n",
       "      <td>0</td>\n",
       "    </tr>\n",
       "    <tr>\n",
       "      <th>4</th>\n",
       "      <td>4</td>\n",
       "      <td>1.0</td>\n",
       "      <td>297.3</td>\n",
       "      <td>308.8</td>\n",
       "      <td>1469.0</td>\n",
       "      <td>44.1</td>\n",
       "      <td>150.0</td>\n",
       "      <td>11.5</td>\n",
       "      <td>6784.049424</td>\n",
       "      <td>3.0</td>\n",
       "      <td>0</td>\n",
       "    </tr>\n",
       "  </tbody>\n",
       "</table>\n",
       "</div>"
      ],
      "text/plain": [
       "   Unnamed: 0  Type  Air temperature [K]  Process temperature [K]  \\\n",
       "0           0   0.0                298.2                    308.4   \n",
       "1           1   1.0                300.9                    310.8   \n",
       "2           2   0.0                301.4                    310.5   \n",
       "3           3   0.0                300.5                    310.5   \n",
       "4           4   1.0                297.3                    308.8   \n",
       "\n",
       "   Rotational speed [rpm]  Torque [Nm]  Tool wear [min]  Temp_Delta  \\\n",
       "0                  1388.0         53.8            137.0        10.2   \n",
       "1                  1599.0         33.0              7.0         9.9   \n",
       "2                  1571.0         33.9            208.0         9.1   \n",
       "3                  1373.0         47.4             56.0        10.0   \n",
       "4                  1469.0         44.1            150.0        11.5   \n",
       "\n",
       "         Power  Time/Part  TWF  \n",
       "0  7819.884882        2.0    0  \n",
       "1  5525.747318        3.0    0  \n",
       "2  5577.049526        2.0    0  \n",
       "3  6815.182607        2.0    0  \n",
       "4  6784.049424        3.0    0  "
      ]
     },
     "execution_count": 21,
     "metadata": {},
     "output_type": "execute_result"
    }
   ],
   "source": [
    "df.head()"
   ]
  },
  {
   "cell_type": "code",
   "execution_count": 22,
   "metadata": {
    "ExecuteTime": {
     "end_time": "2023-11-29T20:15:50.924424500Z",
     "start_time": "2023-11-29T20:15:50.909071100Z"
    },
    "tags": []
   },
   "outputs": [
    {
     "data": {
      "text/html": [
       "<div>\n",
       "<style scoped>\n",
       "    .dataframe tbody tr th:only-of-type {\n",
       "        vertical-align: middle;\n",
       "    }\n",
       "\n",
       "    .dataframe tbody tr th {\n",
       "        vertical-align: top;\n",
       "    }\n",
       "\n",
       "    .dataframe thead th {\n",
       "        text-align: right;\n",
       "    }\n",
       "</style>\n",
       "<table border=\"1\" class=\"dataframe\">\n",
       "  <thead>\n",
       "    <tr style=\"text-align: right;\">\n",
       "      <th></th>\n",
       "      <th>Type</th>\n",
       "      <th>Air temperature [K]</th>\n",
       "      <th>Process temperature [K]</th>\n",
       "      <th>Rotational speed [rpm]</th>\n",
       "      <th>Torque [Nm]</th>\n",
       "      <th>Tool wear [min]</th>\n",
       "      <th>Temp_Delta</th>\n",
       "      <th>Power</th>\n",
       "      <th>Time/Part</th>\n",
       "      <th>TWF</th>\n",
       "    </tr>\n",
       "  </thead>\n",
       "  <tbody>\n",
       "    <tr>\n",
       "      <th>0</th>\n",
       "      <td>0.0</td>\n",
       "      <td>298.2</td>\n",
       "      <td>308.4</td>\n",
       "      <td>1388.0</td>\n",
       "      <td>53.8</td>\n",
       "      <td>137.0</td>\n",
       "      <td>10.2</td>\n",
       "      <td>7819.884882</td>\n",
       "      <td>2.0</td>\n",
       "      <td>0</td>\n",
       "    </tr>\n",
       "    <tr>\n",
       "      <th>1</th>\n",
       "      <td>1.0</td>\n",
       "      <td>300.9</td>\n",
       "      <td>310.8</td>\n",
       "      <td>1599.0</td>\n",
       "      <td>33.0</td>\n",
       "      <td>7.0</td>\n",
       "      <td>9.9</td>\n",
       "      <td>5525.747318</td>\n",
       "      <td>3.0</td>\n",
       "      <td>0</td>\n",
       "    </tr>\n",
       "    <tr>\n",
       "      <th>2</th>\n",
       "      <td>0.0</td>\n",
       "      <td>301.4</td>\n",
       "      <td>310.5</td>\n",
       "      <td>1571.0</td>\n",
       "      <td>33.9</td>\n",
       "      <td>208.0</td>\n",
       "      <td>9.1</td>\n",
       "      <td>5577.049526</td>\n",
       "      <td>2.0</td>\n",
       "      <td>0</td>\n",
       "    </tr>\n",
       "    <tr>\n",
       "      <th>3</th>\n",
       "      <td>0.0</td>\n",
       "      <td>300.5</td>\n",
       "      <td>310.5</td>\n",
       "      <td>1373.0</td>\n",
       "      <td>47.4</td>\n",
       "      <td>56.0</td>\n",
       "      <td>10.0</td>\n",
       "      <td>6815.182607</td>\n",
       "      <td>2.0</td>\n",
       "      <td>0</td>\n",
       "    </tr>\n",
       "    <tr>\n",
       "      <th>4</th>\n",
       "      <td>1.0</td>\n",
       "      <td>297.3</td>\n",
       "      <td>308.8</td>\n",
       "      <td>1469.0</td>\n",
       "      <td>44.1</td>\n",
       "      <td>150.0</td>\n",
       "      <td>11.5</td>\n",
       "      <td>6784.049424</td>\n",
       "      <td>3.0</td>\n",
       "      <td>0</td>\n",
       "    </tr>\n",
       "  </tbody>\n",
       "</table>\n",
       "</div>"
      ],
      "text/plain": [
       "   Type  Air temperature [K]  Process temperature [K]  Rotational speed [rpm]  \\\n",
       "0   0.0                298.2                    308.4                  1388.0   \n",
       "1   1.0                300.9                    310.8                  1599.0   \n",
       "2   0.0                301.4                    310.5                  1571.0   \n",
       "3   0.0                300.5                    310.5                  1373.0   \n",
       "4   1.0                297.3                    308.8                  1469.0   \n",
       "\n",
       "   Torque [Nm]  Tool wear [min]  Temp_Delta        Power  Time/Part  TWF  \n",
       "0         53.8            137.0        10.2  7819.884882        2.0    0  \n",
       "1         33.0              7.0         9.9  5525.747318        3.0    0  \n",
       "2         33.9            208.0         9.1  5577.049526        2.0    0  \n",
       "3         47.4             56.0        10.0  6815.182607        2.0    0  \n",
       "4         44.1            150.0        11.5  6784.049424        3.0    0  "
      ]
     },
     "execution_count": 22,
     "metadata": {},
     "output_type": "execute_result"
    }
   ],
   "source": [
    "df = df.drop(columns=['Unnamed: 0'])\n",
    "df.head()"
   ]
  },
  {
   "cell_type": "code",
   "execution_count": 23,
   "metadata": {
    "ExecuteTime": {
     "end_time": "2023-11-29T20:15:51.600031400Z",
     "start_time": "2023-11-29T20:15:51.576643500Z"
    },
    "tags": []
   },
   "outputs": [],
   "source": [
    "for i in (('L', 0), ('M', 1), ('H', 2)):\n",
    "    df['Type'] = df['Type'].replace(*i)"
   ]
  },
  {
   "cell_type": "code",
   "execution_count": 24,
   "metadata": {
    "ExecuteTime": {
     "end_time": "2023-11-29T20:15:52.173895600Z",
     "start_time": "2023-11-29T20:15:52.161860100Z"
    },
    "tags": []
   },
   "outputs": [
    {
     "data": {
      "text/plain": [
       "Type                       15155\n",
       "Air temperature [K]        15155\n",
       "Process temperature [K]    15155\n",
       "Rotational speed [rpm]     15155\n",
       "Torque [Nm]                15155\n",
       "Tool wear [min]            15155\n",
       "Temp_Delta                 15155\n",
       "Power                      15155\n",
       "Time/Part                  15155\n",
       "TWF                        15155\n",
       "dtype: int64"
      ]
     },
     "execution_count": 24,
     "metadata": {},
     "output_type": "execute_result"
    }
   ],
   "source": [
    "df.count()"
   ]
  },
  {
   "cell_type": "code",
   "execution_count": 25,
   "metadata": {
    "ExecuteTime": {
     "end_time": "2023-11-29T20:15:52.848407400Z",
     "start_time": "2023-11-29T20:15:52.824083900Z"
    },
    "tags": []
   },
   "outputs": [],
   "source": [
    "df = df.rename(columns={'Air temperature [K]':'Air_temperature','Process temperature [K]':'Process_temperature',\n",
    "                        'Rotational speed [rpm]': 'Rotational_speed','Torque [Nm]':'Torque','Tool wear [min]':'Tool_wear','Time/Part':'Part_Time'})"
   ]
  },
  {
   "cell_type": "code",
   "execution_count": 26,
   "metadata": {
    "ExecuteTime": {
     "end_time": "2023-11-29T20:15:53.559731300Z",
     "start_time": "2023-11-29T20:15:53.546706900Z"
    },
    "tags": []
   },
   "outputs": [],
   "source": [
    "num_data = ['Air_temperature','Process_temperature','Rotational_speed','Torque','Tool_wear','Temp_Delta', 'Power']\n",
    "categorical = ['Type', 'Part_Time']\n",
    "\n",
    "target2 = ['TWF']"
   ]
  },
  {
   "cell_type": "code",
   "execution_count": 27,
   "metadata": {
    "ExecuteTime": {
     "end_time": "2023-11-29T20:15:53.935009300Z",
     "start_time": "2023-11-29T20:15:53.910671300Z"
    },
    "tags": []
   },
   "outputs": [],
   "source": [
    "X = df.drop(columns=['TWF'])\n",
    "y= df['TWF']"
   ]
  },
  {
   "cell_type": "code",
   "execution_count": 28,
   "metadata": {
    "ExecuteTime": {
     "end_time": "2023-11-29T20:15:54.419448600Z",
     "start_time": "2023-11-29T20:15:54.405918700Z"
    },
    "tags": []
   },
   "outputs": [],
   "source": [
    "from sklearn.preprocessing import StandardScaler\n",
    "scaler = StandardScaler()\n",
    "df[num_data] = scaler.fit_transform(df[num_data])"
   ]
  },
  {
   "cell_type": "code",
   "execution_count": 29,
   "metadata": {
    "ExecuteTime": {
     "end_time": "2023-11-29T20:15:55.810110600Z",
     "start_time": "2023-11-29T20:15:55.786524200Z"
    },
    "tags": []
   },
   "outputs": [
    {
     "data": {
      "text/html": [
       "<div>\n",
       "<style scoped>\n",
       "    .dataframe tbody tr th:only-of-type {\n",
       "        vertical-align: middle;\n",
       "    }\n",
       "\n",
       "    .dataframe tbody tr th {\n",
       "        vertical-align: top;\n",
       "    }\n",
       "\n",
       "    .dataframe thead th {\n",
       "        text-align: right;\n",
       "    }\n",
       "</style>\n",
       "<table border=\"1\" class=\"dataframe\">\n",
       "  <thead>\n",
       "    <tr style=\"text-align: right;\">\n",
       "      <th></th>\n",
       "      <th>Air_temperature</th>\n",
       "      <th>Process_temperature</th>\n",
       "      <th>Rotational_speed</th>\n",
       "      <th>Torque</th>\n",
       "      <th>Tool_wear</th>\n",
       "      <th>Temp_Delta</th>\n",
       "      <th>Power</th>\n",
       "    </tr>\n",
       "  </thead>\n",
       "  <tbody>\n",
       "    <tr>\n",
       "      <th>0</th>\n",
       "      <td>-1.128392</td>\n",
       "      <td>-1.306327</td>\n",
       "      <td>-0.919889</td>\n",
       "      <td>1.607623</td>\n",
       "      <td>-0.318290</td>\n",
       "      <td>0.251648</td>\n",
       "      <td>1.690300</td>\n",
       "    </tr>\n",
       "    <tr>\n",
       "      <th>1</th>\n",
       "      <td>0.432012</td>\n",
       "      <td>0.523800</td>\n",
       "      <td>0.188166</td>\n",
       "      <td>-0.527442</td>\n",
       "      <td>-2.133272</td>\n",
       "      <td>-0.063723</td>\n",
       "      <td>-0.522193</td>\n",
       "    </tr>\n",
       "    <tr>\n",
       "      <th>2</th>\n",
       "      <td>0.720976</td>\n",
       "      <td>0.295034</td>\n",
       "      <td>0.041126</td>\n",
       "      <td>-0.435059</td>\n",
       "      <td>0.672970</td>\n",
       "      <td>-0.904712</td>\n",
       "      <td>-0.472716</td>\n",
       "    </tr>\n",
       "    <tr>\n",
       "      <th>3</th>\n",
       "      <td>0.200841</td>\n",
       "      <td>0.295034</td>\n",
       "      <td>-0.998660</td>\n",
       "      <td>0.950680</td>\n",
       "      <td>-1.449164</td>\n",
       "      <td>0.041401</td>\n",
       "      <td>0.721353</td>\n",
       "    </tr>\n",
       "    <tr>\n",
       "      <th>4</th>\n",
       "      <td>-1.648526</td>\n",
       "      <td>-1.001306</td>\n",
       "      <td>-0.494521</td>\n",
       "      <td>0.611943</td>\n",
       "      <td>-0.136792</td>\n",
       "      <td>1.618256</td>\n",
       "      <td>0.691328</td>\n",
       "    </tr>\n",
       "    <tr>\n",
       "      <th>...</th>\n",
       "      <td>...</td>\n",
       "      <td>...</td>\n",
       "      <td>...</td>\n",
       "      <td>...</td>\n",
       "      <td>...</td>\n",
       "      <td>...</td>\n",
       "      <td>...</td>\n",
       "    </tr>\n",
       "    <tr>\n",
       "      <th>15150</th>\n",
       "      <td>-0.654762</td>\n",
       "      <td>-0.639478</td>\n",
       "      <td>-0.521249</td>\n",
       "      <td>0.292718</td>\n",
       "      <td>0.683787</td>\n",
       "      <td>0.309428</td>\n",
       "      <td>0.206993</td>\n",
       "    </tr>\n",
       "    <tr>\n",
       "      <th>15151</th>\n",
       "      <td>-1.167581</td>\n",
       "      <td>-1.908292</td>\n",
       "      <td>0.193440</td>\n",
       "      <td>-0.202584</td>\n",
       "      <td>0.896744</td>\n",
       "      <td>-0.506923</td>\n",
       "      <td>-0.007907</td>\n",
       "    </tr>\n",
       "    <tr>\n",
       "      <th>15152</th>\n",
       "      <td>-0.485792</td>\n",
       "      <td>0.249825</td>\n",
       "      <td>2.412393</td>\n",
       "      <td>-1.733085</td>\n",
       "      <td>0.683374</td>\n",
       "      <td>1.228047</td>\n",
       "      <td>-1.561105</td>\n",
       "    </tr>\n",
       "    <tr>\n",
       "      <th>15153</th>\n",
       "      <td>0.083328</td>\n",
       "      <td>1.207553</td>\n",
       "      <td>0.135175</td>\n",
       "      <td>-0.625900</td>\n",
       "      <td>0.712178</td>\n",
       "      <td>1.513132</td>\n",
       "      <td>-0.720771</td>\n",
       "    </tr>\n",
       "    <tr>\n",
       "      <th>15154</th>\n",
       "      <td>-0.462777</td>\n",
       "      <td>-0.847342</td>\n",
       "      <td>0.143445</td>\n",
       "      <td>-0.116743</td>\n",
       "      <td>0.924291</td>\n",
       "      <td>-0.326344</td>\n",
       "      <td>0.090881</td>\n",
       "    </tr>\n",
       "  </tbody>\n",
       "</table>\n",
       "<p>15155 rows × 7 columns</p>\n",
       "</div>"
      ],
      "text/plain": [
       "       Air_temperature  Process_temperature  Rotational_speed    Torque  \\\n",
       "0            -1.128392            -1.306327         -0.919889  1.607623   \n",
       "1             0.432012             0.523800          0.188166 -0.527442   \n",
       "2             0.720976             0.295034          0.041126 -0.435059   \n",
       "3             0.200841             0.295034         -0.998660  0.950680   \n",
       "4            -1.648526            -1.001306         -0.494521  0.611943   \n",
       "...                ...                  ...               ...       ...   \n",
       "15150        -0.654762            -0.639478         -0.521249  0.292718   \n",
       "15151        -1.167581            -1.908292          0.193440 -0.202584   \n",
       "15152        -0.485792             0.249825          2.412393 -1.733085   \n",
       "15153         0.083328             1.207553          0.135175 -0.625900   \n",
       "15154        -0.462777            -0.847342          0.143445 -0.116743   \n",
       "\n",
       "       Tool_wear  Temp_Delta     Power  \n",
       "0      -0.318290    0.251648  1.690300  \n",
       "1      -2.133272   -0.063723 -0.522193  \n",
       "2       0.672970   -0.904712 -0.472716  \n",
       "3      -1.449164    0.041401  0.721353  \n",
       "4      -0.136792    1.618256  0.691328  \n",
       "...          ...         ...       ...  \n",
       "15150   0.683787    0.309428  0.206993  \n",
       "15151   0.896744   -0.506923 -0.007907  \n",
       "15152   0.683374    1.228047 -1.561105  \n",
       "15153   0.712178    1.513132 -0.720771  \n",
       "15154   0.924291   -0.326344  0.090881  \n",
       "\n",
       "[15155 rows x 7 columns]"
      ]
     },
     "execution_count": 29,
     "metadata": {},
     "output_type": "execute_result"
    }
   ],
   "source": [
    "df[num_data]"
   ]
  },
  {
   "cell_type": "code",
   "execution_count": 30,
   "metadata": {
    "ExecuteTime": {
     "end_time": "2023-11-29T20:15:56.689126600Z",
     "start_time": "2023-11-29T20:15:56.676249400Z"
    },
    "id": "4XBkB4QgyoxL",
    "tags": []
   },
   "outputs": [],
   "source": [
    "from sklearn.model_selection import train_test_split\n",
    "X_train, X_test, y_train, y_test = train_test_split(X, y, test_size=0.2, random_state=42)"
   ]
  },
  {
   "cell_type": "code",
   "execution_count": 43,
   "metadata": {
    "ExecuteTime": {
     "end_time": "2023-11-19T17:25:48.789542Z",
     "start_time": "2023-11-19T16:52:47.675163800Z"
    },
    "tags": []
   },
   "outputs": [
    {
     "name": "stdout",
     "output_type": "stream",
     "text": [
      "Model Training:\n",
      "XGBClassifier(base_score=None, booster=None, callbacks=None,\n",
      "              colsample_bylevel=None, colsample_bynode=None,\n",
      "              colsample_bytree=None, early_stopping_rounds=None,\n",
      "              enable_categorical=False, eval_metric=None, feature_types=None,\n",
      "              gamma=None, gpu_id=None, grow_policy=None, importance_type=None,\n",
      "              interaction_constraints=None, learning_rate=None, max_bin=None,\n",
      "              max_cat_threshold=None, max_cat_to_onehot=None,\n",
      "              max_delta_step=None, max_depth=3, max_leaves=None,\n",
      "              min_child_weight=15, missing=nan, monotone_constraints=None,\n",
      "              n_estimators=2000, n_jobs=None, num_parallel_tree=None,\n",
      "              objective='binary:hinge', predictor=None, ...)\n",
      "Results:\n",
      "0.9968656051172129\n"
     ]
    }
   ],
   "source": [
    "\n",
    "from xgboost import XGBClassifier\n",
    "from sklearn.model_selection import GridSearchCV\n",
    "\n",
    "class XGBoostTuner:\n",
    "    def __init__(self, X_train, y_train):\n",
    "        self.X_train = X_train\n",
    "        self.y_train = y_train\n",
    "        self.model = XGBClassifier()\n",
    "        self.params = {\n",
    "            'n_estimators': [1000, 1500, 2000],\n",
    "            'max_depth': [3, 6, 8],\n",
    "            'subsample': [0.90, 0.95, 1],\n",
    "            'objective': ['binary:logistic', 'binary:hinge'],\n",
    "            'min_child_weight': [5, 10, 15]\n",
    "        }\n",
    "\n",
    "    def tune_hyperparameters(self):     \n",
    "        search = GridSearchCV(self.model, self.params, cv=5)\n",
    "        search.fit(self.X_train, self.y_train)\n",
    "        return search\n",
    "\n",
    "# Assuming you have X_train and y_train defined\n",
    "xgboost_tuner = XGBoostTuner(X_train, y_train)\n",
    "search_results = xgboost_tuner.tune_hyperparameters()\n",
    "\n",
    "best_model = search_results.best_estimator_\n",
    "score = search_results.best_score_\n",
    "\n",
    "print(\"Model Training:\")\n",
    "print(best_model)\n",
    "\n",
    "print(\"Results:\")\n",
    "print(score)\n"
   ]
  },
  {
   "cell_type": "code",
   "execution_count": 31,
   "metadata": {
    "ExecuteTime": {
     "end_time": "2023-11-29T20:16:19.654832300Z",
     "start_time": "2023-11-29T20:16:02.053575Z"
    },
    "tags": []
   },
   "outputs": [
    {
     "name": "stdout",
     "output_type": "stream",
     "text": [
      "Model Training:\n",
      "XGBClassifier(base_score=None, booster=None, callbacks=None,\n",
      "              colsample_bylevel=None, colsample_bynode=None,\n",
      "              colsample_bytree=None, early_stopping_rounds=None,\n",
      "              enable_categorical=False, eval_metric=None, feature_types=None,\n",
      "              gamma=None, gpu_id=None, grow_policy=None, importance_type=None,\n",
      "              interaction_constraints=None, learning_rate=0.05, max_bin=None,\n",
      "              max_cat_threshold=None, max_cat_to_onehot=None,\n",
      "              max_delta_step=None, max_depth=3, max_leaves=None,\n",
      "              min_child_weight=10, missing=nan, monotone_constraints=None,\n",
      "              n_estimators=2000, n_jobs=None, num_parallel_tree=None,\n",
      "              objective='binary:hinge', predictor=None, ...)\n",
      "Results:\n",
      "0.9971955700724712\n"
     ]
    }
   ],
   "source": [
    "import pickle\n",
    "from xgboost import XGBClassifier\n",
    "from sklearn.model_selection import GridSearchCV\n",
    "\n",
    "class XGBoostTuner:\n",
    "    def __init__(self, X_train, y_train):\n",
    "        self.X_train = X_train\n",
    "        self.y_train = y_train\n",
    "        self.model = XGBClassifier()\n",
    "        self.params = {\n",
    "            'n_estimators': [2000],\n",
    "            'max_depth': [3],\n",
    "            'subsample': [0.8],\n",
    "            'objective': ['binary:hinge'],\n",
    "            'min_child_weight': [10],\n",
    "            'learning_rate': [0.05]\n",
    "        }\n",
    "\n",
    "    def tune_hyperparameters(self):     \n",
    "        search = GridSearchCV(self.model, self.params, cv=5)\n",
    "        search.fit(self.X_train, self.y_train)\n",
    "        return search\n",
    "\n",
    "\n",
    "xgboost_tuner = XGBoostTuner(X_train, y_train)\n",
    "search_results = xgboost_tuner.tune_hyperparameters()\n",
    "\n",
    "best_model = search_results.best_estimator_\n",
    "score = search_results.best_score_\n",
    "\n",
    "with open('xgboost_model_twf.pkl', 'wb') as file:\n",
    "    pickle.dump(best_model, file)\n",
    "\n",
    "print(\"Model Training:\")\n",
    "print(best_model)\n",
    "\n",
    "print(\"Results:\")\n",
    "print(score)\n"
   ]
  },
  {
   "cell_type": "code",
   "execution_count": 32,
   "metadata": {
    "ExecuteTime": {
     "end_time": "2023-11-29T20:16:41.939952700Z",
     "start_time": "2023-11-29T20:16:41.532504100Z"
    },
    "tags": []
   },
   "outputs": [
    {
     "name": "stdout",
     "output_type": "stream",
     "text": [
      "Classification Report (Test Data):\n",
      "              precision    recall  f1-score   support\n",
      "\n",
      "           0     1.0000    0.9986    0.9993      1472\n",
      "           1     0.9987    1.0000    0.9994      1559\n",
      "\n",
      "    accuracy                         0.9993      3031\n",
      "   macro avg     0.9994    0.9993    0.9993      3031\n",
      "weighted avg     0.9993    0.9993    0.9993      3031\n",
      "\n",
      "Confusion Matrix (Test Data):\n"
     ]
    },
    {
     "data": {
      "image/png": "[encoded data removed]",
      "text/plain": [
       "<Figure size 640x480 with 2 Axes>"
      ]
     },
     "metadata": {},
     "output_type": "display_data"
    }
   ],
   "source": [
    "from sklearn.metrics import classification_report, confusion_matrix\n",
    "import seaborn as sns\n",
    "import matplotlib.pyplot as plt\n",
    "\n",
    "class Xgboost_test:\n",
    "    def __init__(self, X_test, y_test, best_model):\n",
    "        self.X_test = X_test\n",
    "        self.y_test = y_test\n",
    "        self.best_model = best_model \n",
    "\n",
    "    def evaluate_model(self):\n",
    "        y_pred = self.best_model.predict(self.X_test)\n",
    "        return y_pred\n",
    "\n",
    "# Assuming you have X_test and y_test defined\n",
    "xgboost_tester = Xgboost_test(X_test, y_test, best_model)\n",
    "y_pred_test = xgboost_tester.evaluate_model()\n",
    "\n",
    "print('Classification Report (Test Data):')\n",
    "print(classification_report(y_test, y_pred_test, digits=4))\n",
    "\n",
    "print('Confusion Matrix (Test Data):')\n",
    "cm_test = confusion_matrix(y_test, y_pred_test)\n",
    "sns.heatmap(cm_test, annot=True, fmt='g', cmap='Blues')\n",
    "plt.ylabel('Actual', fontsize=10)\n",
    "plt.xlabel('Predicted', fontsize=10)\n",
    "plt.title('Confusion Matrix (Test Data)', fontsize=12)\n",
    "plt.show()"
   ]
  },
  {
   "cell_type": "code",
   "execution_count": 33,
   "metadata": {
    "ExecuteTime": {
     "end_time": "2023-11-29T20:16:47.278353300Z",
     "start_time": "2023-11-29T20:16:46.451269200Z"
    },
    "tags": []
   },
   "outputs": [
    {
     "data": {
      "image/png": "[encoded data removed]",
      "text/plain": [
       "<Figure size 640x480 with 1 Axes>"
      ]
     },
     "metadata": {},
     "output_type": "display_data"
    },
    {
     "data": {
      "image/png": "[encoded data removed]",
      "text/plain": [
       "<Figure size 640x480 with 1 Axes>"
      ]
     },
     "metadata": {},
     "output_type": "display_data"
    }
   ],
   "source": [
    "from sklearn.metrics import RocCurveDisplay\n",
    "\n",
    "models = [search_results.best_estimator_] \n",
    "\n",
    "fig, ax = plt.subplots()\n",
    "\n",
    "for model in models:\n",
    "    display = RocCurveDisplay.from_estimator(model, X_test, y_test)\n",
    "    display.plot(ax=ax)\n",
    "\n",
    "ax.set_title(\"ROC curve\")\n",
    "plt.show()"
   ]
  },
  {
   "cell_type": "code",
   "execution_count": 49,
   "metadata": {
    "ExecuteTime": {
     "end_time": "2023-11-19T17:53:05.714195300Z",
     "start_time": "2023-11-19T17:53:05.601573400Z"
    }
   },
   "outputs": [],
   "source": [
    "import pickle\n",
    "with open('xgboost_tuner_model_twf.pkl', 'wb') as file:\n",
    "    pickle.dump(best_model, file)\n",
    "\n",
    "#with open('xgboost_tuner_model_twf.pkl', 'rb') as file:\n",
    "   # loaded_model = pickle.load(file)"
   ]
  },
  {
   "cell_type": "code",
   "execution_count": null,
   "metadata": {
    "collapsed": false
   },
   "outputs": [],
   "source": []
  }
 ],
 "metadata": {
  "kernelspec": {
   "display_name": "Python 3 (ipykernel)",
   "language": "python",
   "name": "python3"
  },
  "language_info": {
   "codemirror_mode": {
    "name": "ipython",
    "version": 3
   },
   "file_extension": ".py",
   "mimetype": "text/x-python",
   "name": "python",
   "nbconvert_exporter": "python",
   "pygments_lexer": "ipython3",
   "version": "3.11.5"
  }
 },
 "nbformat": 4,
 "nbformat_minor": 4
}
