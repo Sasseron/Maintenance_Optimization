{
 "cells": [
  {
   "cell_type": "code",
   "execution_count": 6,
   "metadata": {
    "ExecuteTime": {
     "end_time": "2023-11-29T20:12:55.388883700Z",
     "start_time": "2023-11-29T20:12:55.381755700Z"
    },
    "id": "2_18TeLltRPZ",
    "tags": []
   },
   "outputs": [],
   "source": [
    "import pandas as pd\n",
    "import seaborn as sns\n",
    "import matplotlib as plt\n",
    "import matplotlib.pyplot as plt\n",
    "import plotly.express as px\n",
    "import numpy as np\n",
    "\n",
    "import warnings\n",
    "warnings.filterwarnings('ignore')\n",
    "from sklearn.tree import DecisionTreeClassifier\n",
    "from sklearn.linear_model import LogisticRegression\n",
    "from sklearn.ensemble import RandomForestClassifier, GradientBoostingClassifier\n",
    "from sklearn.svm import SVC\n",
    "from sklearn.neural_network import MLPClassifier\n",
    "\n",
    "from sklearn.metrics import accuracy_score\n",
    "from sklearn.model_selection import GridSearchCV\n",
    "from sklearn.metrics import f1_score, precision_score, recall_score, accuracy_score,roc_auc_score\n",
    "from sklearn.metrics import accuracy_score, classification_report, confusion_matrix\n",
    "from sklearn.metrics import roc_curve, auc\n",
    "from xgboost import XGBClassifier\n",
    "\n"
   ]
  },
  {
   "cell_type": "code",
   "execution_count": 7,
   "metadata": {
    "ExecuteTime": {
     "end_time": "2023-11-29T20:12:55.828891200Z",
     "start_time": "2023-11-29T20:12:55.780504Z"
    },
    "tags": []
   },
   "outputs": [],
   "source": [
    "df = pd.read_csv(\"Failures_Boosted.csv\")"
   ]
  },
  {
   "cell_type": "code",
   "execution_count": 8,
   "metadata": {
    "ExecuteTime": {
     "end_time": "2023-11-29T20:12:56.567954900Z",
     "start_time": "2023-11-29T20:12:56.553949500Z"
    },
    "tags": []
   },
   "outputs": [
    {
     "data": {
      "text/html": [
       "<div>\n",
       "<style scoped>\n",
       "    .dataframe tbody tr th:only-of-type {\n",
       "        vertical-align: middle;\n",
       "    }\n",
       "\n",
       "    .dataframe tbody tr th {\n",
       "        vertical-align: top;\n",
       "    }\n",
       "\n",
       "    .dataframe thead th {\n",
       "        text-align: right;\n",
       "    }\n",
       "</style>\n",
       "<table border=\"1\" class=\"dataframe\">\n",
       "  <thead>\n",
       "    <tr style=\"text-align: right;\">\n",
       "      <th></th>\n",
       "      <th>Unnamed: 0</th>\n",
       "      <th>Type</th>\n",
       "      <th>Air temperature [K]</th>\n",
       "      <th>Process temperature [K]</th>\n",
       "      <th>Rotational speed [rpm]</th>\n",
       "      <th>Torque [Nm]</th>\n",
       "      <th>Tool wear [min]</th>\n",
       "      <th>Temp_Delta</th>\n",
       "      <th>Power</th>\n",
       "      <th>Time/Part</th>\n",
       "      <th>Planned_Stop</th>\n",
       "      <th>Failures</th>\n",
       "    </tr>\n",
       "  </thead>\n",
       "  <tbody>\n",
       "    <tr>\n",
       "      <th>0</th>\n",
       "      <td>0</td>\n",
       "      <td>0.0</td>\n",
       "      <td>298.3</td>\n",
       "      <td>309.1</td>\n",
       "      <td>1616.0</td>\n",
       "      <td>31.1</td>\n",
       "      <td>195.0</td>\n",
       "      <td>10.8</td>\n",
       "      <td>5262.963565</td>\n",
       "      <td>2.0</td>\n",
       "      <td>0.0</td>\n",
       "      <td>0</td>\n",
       "    </tr>\n",
       "    <tr>\n",
       "      <th>1</th>\n",
       "      <td>1</td>\n",
       "      <td>0.0</td>\n",
       "      <td>298.2</td>\n",
       "      <td>307.8</td>\n",
       "      <td>1528.0</td>\n",
       "      <td>31.1</td>\n",
       "      <td>194.0</td>\n",
       "      <td>9.6</td>\n",
       "      <td>4976.366539</td>\n",
       "      <td>2.0</td>\n",
       "      <td>0.0</td>\n",
       "      <td>0</td>\n",
       "    </tr>\n",
       "    <tr>\n",
       "      <th>2</th>\n",
       "      <td>2</td>\n",
       "      <td>1.0</td>\n",
       "      <td>300.9</td>\n",
       "      <td>310.8</td>\n",
       "      <td>1599.0</td>\n",
       "      <td>33.0</td>\n",
       "      <td>7.0</td>\n",
       "      <td>9.9</td>\n",
       "      <td>5525.747318</td>\n",
       "      <td>3.0</td>\n",
       "      <td>0.0</td>\n",
       "      <td>0</td>\n",
       "    </tr>\n",
       "    <tr>\n",
       "      <th>3</th>\n",
       "      <td>3</td>\n",
       "      <td>0.0</td>\n",
       "      <td>301.4</td>\n",
       "      <td>310.5</td>\n",
       "      <td>1571.0</td>\n",
       "      <td>33.9</td>\n",
       "      <td>208.0</td>\n",
       "      <td>9.1</td>\n",
       "      <td>5577.049526</td>\n",
       "      <td>2.0</td>\n",
       "      <td>0.0</td>\n",
       "      <td>0</td>\n",
       "    </tr>\n",
       "    <tr>\n",
       "      <th>4</th>\n",
       "      <td>4</td>\n",
       "      <td>1.0</td>\n",
       "      <td>297.3</td>\n",
       "      <td>308.8</td>\n",
       "      <td>1469.0</td>\n",
       "      <td>44.1</td>\n",
       "      <td>150.0</td>\n",
       "      <td>11.5</td>\n",
       "      <td>6784.049424</td>\n",
       "      <td>3.0</td>\n",
       "      <td>0.0</td>\n",
       "      <td>0</td>\n",
       "    </tr>\n",
       "  </tbody>\n",
       "</table>\n",
       "</div>"
      ],
      "text/plain": [
       "   Unnamed: 0  Type  Air temperature [K]  Process temperature [K]  \\\n",
       "0           0   0.0                298.3                    309.1   \n",
       "1           1   0.0                298.2                    307.8   \n",
       "2           2   1.0                300.9                    310.8   \n",
       "3           3   0.0                301.4                    310.5   \n",
       "4           4   1.0                297.3                    308.8   \n",
       "\n",
       "   Rotational speed [rpm]  Torque [Nm]  Tool wear [min]  Temp_Delta  \\\n",
       "0                  1616.0         31.1            195.0        10.8   \n",
       "1                  1528.0         31.1            194.0         9.6   \n",
       "2                  1599.0         33.0              7.0         9.9   \n",
       "3                  1571.0         33.9            208.0         9.1   \n",
       "4                  1469.0         44.1            150.0        11.5   \n",
       "\n",
       "         Power  Time/Part  Planned_Stop  Failures  \n",
       "0  5262.963565        2.0           0.0         0  \n",
       "1  4976.366539        2.0           0.0         0  \n",
       "2  5525.747318        3.0           0.0         0  \n",
       "3  5577.049526        2.0           0.0         0  \n",
       "4  6784.049424        3.0           0.0         0  "
      ]
     },
     "execution_count": 8,
     "metadata": {},
     "output_type": "execute_result"
    }
   ],
   "source": [
    "df.head()"
   ]
  },
  {
   "cell_type": "code",
   "execution_count": 9,
   "metadata": {
    "ExecuteTime": {
     "end_time": "2023-11-29T20:12:57.092911200Z",
     "start_time": "2023-11-29T20:12:57.075200300Z"
    },
    "tags": []
   },
   "outputs": [],
   "source": [
    "df = df.drop(columns=['Unnamed: 0'])"
   ]
  },
  {
   "cell_type": "code",
   "execution_count": 10,
   "metadata": {
    "ExecuteTime": {
     "end_time": "2023-11-29T20:12:57.787359600Z",
     "start_time": "2023-11-29T20:12:57.762162200Z"
    },
    "tags": []
   },
   "outputs": [],
   "source": [
    "for i in (('L', 0), ('M', 1), ('H', 2)):\n",
    "    df['Type'] = df['Type'].replace(*i)"
   ]
  },
  {
   "cell_type": "code",
   "execution_count": 11,
   "metadata": {
    "ExecuteTime": {
     "end_time": "2023-11-29T20:12:58.569025400Z",
     "start_time": "2023-11-29T20:12:58.552231300Z"
    },
    "tags": []
   },
   "outputs": [
    {
     "data": {
      "text/plain": [
       "Type                       14269\n",
       "Air temperature [K]        14269\n",
       "Process temperature [K]    14269\n",
       "Rotational speed [rpm]     14269\n",
       "Torque [Nm]                14269\n",
       "Tool wear [min]            14269\n",
       "Temp_Delta                 14269\n",
       "Power                      14269\n",
       "Time/Part                  14269\n",
       "Planned_Stop               14269\n",
       "Failures                   14269\n",
       "dtype: int64"
      ]
     },
     "execution_count": 11,
     "metadata": {},
     "output_type": "execute_result"
    }
   ],
   "source": [
    "df.count()"
   ]
  },
  {
   "cell_type": "code",
   "execution_count": 12,
   "metadata": {
    "ExecuteTime": {
     "end_time": "2023-11-29T20:12:59.540958100Z",
     "start_time": "2023-11-29T20:12:59.501443600Z"
    },
    "tags": []
   },
   "outputs": [],
   "source": [
    "df = df.rename(columns={'Air temperature [K]':'Air_temperature','Process temperature [K]':'Process_temperature',\n",
    "                        'Rotational speed [rpm]': 'Rotational_speed','Torque [Nm]':'Torque','Tool wear [min]':'Tool_wear','Time/Part':'Part_Time'})"
   ]
  },
  {
   "cell_type": "code",
   "execution_count": 13,
   "metadata": {
    "ExecuteTime": {
     "end_time": "2023-11-29T20:13:00.709588100Z",
     "start_time": "2023-11-29T20:13:00.688414600Z"
    },
    "tags": []
   },
   "outputs": [
    {
     "data": {
      "text/html": [
       "<div>\n",
       "<style scoped>\n",
       "    .dataframe tbody tr th:only-of-type {\n",
       "        vertical-align: middle;\n",
       "    }\n",
       "\n",
       "    .dataframe tbody tr th {\n",
       "        vertical-align: top;\n",
       "    }\n",
       "\n",
       "    .dataframe thead th {\n",
       "        text-align: right;\n",
       "    }\n",
       "</style>\n",
       "<table border=\"1\" class=\"dataframe\">\n",
       "  <thead>\n",
       "    <tr style=\"text-align: right;\">\n",
       "      <th></th>\n",
       "      <th>Type</th>\n",
       "      <th>Air_temperature</th>\n",
       "      <th>Process_temperature</th>\n",
       "      <th>Rotational_speed</th>\n",
       "      <th>Torque</th>\n",
       "      <th>Tool_wear</th>\n",
       "      <th>Temp_Delta</th>\n",
       "      <th>Power</th>\n",
       "      <th>Part_Time</th>\n",
       "      <th>Planned_Stop</th>\n",
       "      <th>Failures</th>\n",
       "    </tr>\n",
       "  </thead>\n",
       "  <tbody>\n",
       "    <tr>\n",
       "      <th>0</th>\n",
       "      <td>0.000000</td>\n",
       "      <td>298.300000</td>\n",
       "      <td>309.100000</td>\n",
       "      <td>1616.000000</td>\n",
       "      <td>31.100000</td>\n",
       "      <td>195.000000</td>\n",
       "      <td>10.800000</td>\n",
       "      <td>5262.963565</td>\n",
       "      <td>2.000000</td>\n",
       "      <td>0.0</td>\n",
       "      <td>0</td>\n",
       "    </tr>\n",
       "    <tr>\n",
       "      <th>1</th>\n",
       "      <td>0.000000</td>\n",
       "      <td>298.200000</td>\n",
       "      <td>307.800000</td>\n",
       "      <td>1528.000000</td>\n",
       "      <td>31.100000</td>\n",
       "      <td>194.000000</td>\n",
       "      <td>9.600000</td>\n",
       "      <td>4976.366539</td>\n",
       "      <td>2.000000</td>\n",
       "      <td>0.0</td>\n",
       "      <td>0</td>\n",
       "    </tr>\n",
       "    <tr>\n",
       "      <th>2</th>\n",
       "      <td>1.000000</td>\n",
       "      <td>300.900000</td>\n",
       "      <td>310.800000</td>\n",
       "      <td>1599.000000</td>\n",
       "      <td>33.000000</td>\n",
       "      <td>7.000000</td>\n",
       "      <td>9.900000</td>\n",
       "      <td>5525.747318</td>\n",
       "      <td>3.000000</td>\n",
       "      <td>0.0</td>\n",
       "      <td>0</td>\n",
       "    </tr>\n",
       "    <tr>\n",
       "      <th>3</th>\n",
       "      <td>0.000000</td>\n",
       "      <td>301.400000</td>\n",
       "      <td>310.500000</td>\n",
       "      <td>1571.000000</td>\n",
       "      <td>33.900000</td>\n",
       "      <td>208.000000</td>\n",
       "      <td>9.100000</td>\n",
       "      <td>5577.049526</td>\n",
       "      <td>2.000000</td>\n",
       "      <td>0.0</td>\n",
       "      <td>0</td>\n",
       "    </tr>\n",
       "    <tr>\n",
       "      <th>4</th>\n",
       "      <td>1.000000</td>\n",
       "      <td>297.300000</td>\n",
       "      <td>308.800000</td>\n",
       "      <td>1469.000000</td>\n",
       "      <td>44.100000</td>\n",
       "      <td>150.000000</td>\n",
       "      <td>11.500000</td>\n",
       "      <td>6784.049424</td>\n",
       "      <td>3.000000</td>\n",
       "      <td>0.0</td>\n",
       "      <td>0</td>\n",
       "    </tr>\n",
       "    <tr>\n",
       "      <th>...</th>\n",
       "      <td>...</td>\n",
       "      <td>...</td>\n",
       "      <td>...</td>\n",
       "      <td>...</td>\n",
       "      <td>...</td>\n",
       "      <td>...</td>\n",
       "      <td>...</td>\n",
       "      <td>...</td>\n",
       "      <td>...</td>\n",
       "      <td>...</td>\n",
       "      <td>...</td>\n",
       "    </tr>\n",
       "    <tr>\n",
       "      <th>14264</th>\n",
       "      <td>0.272735</td>\n",
       "      <td>302.781812</td>\n",
       "      <td>311.036359</td>\n",
       "      <td>1366.363410</td>\n",
       "      <td>48.472735</td>\n",
       "      <td>83.818739</td>\n",
       "      <td>8.254547</td>\n",
       "      <td>6935.151460</td>\n",
       "      <td>2.272735</td>\n",
       "      <td>0.0</td>\n",
       "      <td>1</td>\n",
       "    </tr>\n",
       "    <tr>\n",
       "      <th>14265</th>\n",
       "      <td>0.000000</td>\n",
       "      <td>299.004178</td>\n",
       "      <td>309.715506</td>\n",
       "      <td>1364.646240</td>\n",
       "      <td>52.995822</td>\n",
       "      <td>215.210771</td>\n",
       "      <td>10.711328</td>\n",
       "      <td>7571.722515</td>\n",
       "      <td>2.000000</td>\n",
       "      <td>0.0</td>\n",
       "      <td>1</td>\n",
       "    </tr>\n",
       "    <tr>\n",
       "      <th>14266</th>\n",
       "      <td>0.000000</td>\n",
       "      <td>299.775041</td>\n",
       "      <td>308.987531</td>\n",
       "      <td>1432.498521</td>\n",
       "      <td>63.487564</td>\n",
       "      <td>141.500821</td>\n",
       "      <td>9.212490</td>\n",
       "      <td>9518.011853</td>\n",
       "      <td>2.000000</td>\n",
       "      <td>0.0</td>\n",
       "      <td>1</td>\n",
       "    </tr>\n",
       "    <tr>\n",
       "      <th>14267</th>\n",
       "      <td>0.000000</td>\n",
       "      <td>301.233468</td>\n",
       "      <td>310.306376</td>\n",
       "      <td>1318.908389</td>\n",
       "      <td>64.920716</td>\n",
       "      <td>193.083669</td>\n",
       "      <td>9.072908</td>\n",
       "      <td>8964.822990</td>\n",
       "      <td>2.000000</td>\n",
       "      <td>0.0</td>\n",
       "      <td>1</td>\n",
       "    </tr>\n",
       "    <tr>\n",
       "      <th>14268</th>\n",
       "      <td>0.000000</td>\n",
       "      <td>297.373330</td>\n",
       "      <td>308.473330</td>\n",
       "      <td>1354.000080</td>\n",
       "      <td>52.908885</td>\n",
       "      <td>216.199968</td>\n",
       "      <td>11.100000</td>\n",
       "      <td>7500.395955</td>\n",
       "      <td>2.000000</td>\n",
       "      <td>0.0</td>\n",
       "      <td>1</td>\n",
       "    </tr>\n",
       "  </tbody>\n",
       "</table>\n",
       "<p>14269 rows × 11 columns</p>\n",
       "</div>"
      ],
      "text/plain": [
       "           Type  Air_temperature  Process_temperature  Rotational_speed  \\\n",
       "0      0.000000       298.300000           309.100000       1616.000000   \n",
       "1      0.000000       298.200000           307.800000       1528.000000   \n",
       "2      1.000000       300.900000           310.800000       1599.000000   \n",
       "3      0.000000       301.400000           310.500000       1571.000000   \n",
       "4      1.000000       297.300000           308.800000       1469.000000   \n",
       "...         ...              ...                  ...               ...   \n",
       "14264  0.272735       302.781812           311.036359       1366.363410   \n",
       "14265  0.000000       299.004178           309.715506       1364.646240   \n",
       "14266  0.000000       299.775041           308.987531       1432.498521   \n",
       "14267  0.000000       301.233468           310.306376       1318.908389   \n",
       "14268  0.000000       297.373330           308.473330       1354.000080   \n",
       "\n",
       "          Torque   Tool_wear  Temp_Delta        Power  Part_Time  \\\n",
       "0      31.100000  195.000000   10.800000  5262.963565   2.000000   \n",
       "1      31.100000  194.000000    9.600000  4976.366539   2.000000   \n",
       "2      33.000000    7.000000    9.900000  5525.747318   3.000000   \n",
       "3      33.900000  208.000000    9.100000  5577.049526   2.000000   \n",
       "4      44.100000  150.000000   11.500000  6784.049424   3.000000   \n",
       "...          ...         ...         ...          ...        ...   \n",
       "14264  48.472735   83.818739    8.254547  6935.151460   2.272735   \n",
       "14265  52.995822  215.210771   10.711328  7571.722515   2.000000   \n",
       "14266  63.487564  141.500821    9.212490  9518.011853   2.000000   \n",
       "14267  64.920716  193.083669    9.072908  8964.822990   2.000000   \n",
       "14268  52.908885  216.199968   11.100000  7500.395955   2.000000   \n",
       "\n",
       "       Planned_Stop  Failures  \n",
       "0               0.0         0  \n",
       "1               0.0         0  \n",
       "2               0.0         0  \n",
       "3               0.0         0  \n",
       "4               0.0         0  \n",
       "...             ...       ...  \n",
       "14264           0.0         1  \n",
       "14265           0.0         1  \n",
       "14266           0.0         1  \n",
       "14267           0.0         1  \n",
       "14268           0.0         1  \n",
       "\n",
       "[14269 rows x 11 columns]"
      ]
     },
     "execution_count": 13,
     "metadata": {},
     "output_type": "execute_result"
    }
   ],
   "source": [
    "df"
   ]
  },
  {
   "cell_type": "code",
   "execution_count": 14,
   "metadata": {
    "ExecuteTime": {
     "end_time": "2023-11-29T20:13:01.482285300Z",
     "start_time": "2023-11-29T20:13:01.469162Z"
    },
    "tags": []
   },
   "outputs": [],
   "source": [
    "num_data = ['Air_temperature','Process_temperature','Rotational_speed','Torque','Tool_wear','Temp_Delta', 'Power']\n",
    "categorical = ['Type', 'Part_Time']\n",
    "\n",
    "target1 = ['Failures']\n",
    "target2 = ['TWF']"
   ]
  },
  {
   "cell_type": "code",
   "execution_count": 15,
   "metadata": {
    "ExecuteTime": {
     "end_time": "2023-11-29T20:13:02.272266400Z",
     "start_time": "2023-11-29T20:13:02.254704900Z"
    },
    "tags": []
   },
   "outputs": [],
   "source": [
    "from sklearn.preprocessing import StandardScaler\n",
    "scaler = StandardScaler()\n",
    "df[num_data] = scaler.fit_transform(df[num_data])"
   ]
  },
  {
   "cell_type": "code",
   "execution_count": 16,
   "metadata": {
    "ExecuteTime": {
     "end_time": "2023-11-29T20:13:02.691023600Z",
     "start_time": "2023-11-29T20:13:02.684256300Z"
    },
    "tags": []
   },
   "outputs": [],
   "source": [
    "X = df.drop(columns=['Failures'])\n",
    "y= df['Failures']"
   ]
  },
  {
   "cell_type": "code",
   "execution_count": 17,
   "metadata": {
    "ExecuteTime": {
     "end_time": "2023-11-29T20:13:03.163152400Z",
     "start_time": "2023-11-29T20:13:03.135169700Z"
    },
    "tags": []
   },
   "outputs": [
    {
     "data": {
      "text/plain": [
       "0    0\n",
       "1    0\n",
       "2    0\n",
       "3    0\n",
       "4    0\n",
       "Name: Failures, dtype: int64"
      ]
     },
     "execution_count": 17,
     "metadata": {},
     "output_type": "execute_result"
    }
   ],
   "source": [
    "y.head()"
   ]
  },
  {
   "cell_type": "code",
   "execution_count": 18,
   "metadata": {
    "ExecuteTime": {
     "end_time": "2023-11-29T20:13:04.000913200Z",
     "start_time": "2023-11-29T20:13:03.984660900Z"
    },
    "tags": []
   },
   "outputs": [
    {
     "data": {
      "text/html": [
       "<div>\n",
       "<style scoped>\n",
       "    .dataframe tbody tr th:only-of-type {\n",
       "        vertical-align: middle;\n",
       "    }\n",
       "\n",
       "    .dataframe tbody tr th {\n",
       "        vertical-align: top;\n",
       "    }\n",
       "\n",
       "    .dataframe thead th {\n",
       "        text-align: right;\n",
       "    }\n",
       "</style>\n",
       "<table border=\"1\" class=\"dataframe\">\n",
       "  <thead>\n",
       "    <tr style=\"text-align: right;\">\n",
       "      <th></th>\n",
       "      <th>Type</th>\n",
       "      <th>Air_temperature</th>\n",
       "      <th>Process_temperature</th>\n",
       "      <th>Rotational_speed</th>\n",
       "      <th>Torque</th>\n",
       "      <th>Tool_wear</th>\n",
       "      <th>Temp_Delta</th>\n",
       "      <th>Power</th>\n",
       "      <th>Part_Time</th>\n",
       "      <th>Planned_Stop</th>\n",
       "    </tr>\n",
       "  </thead>\n",
       "  <tbody>\n",
       "    <tr>\n",
       "      <th>0</th>\n",
       "      <td>0.000000</td>\n",
       "      <td>-1.141586</td>\n",
       "      <td>-0.830186</td>\n",
       "      <td>0.278024</td>\n",
       "      <td>-0.955825</td>\n",
       "      <td>1.130844</td>\n",
       "      <td>1.061034</td>\n",
       "      <td>-0.947754</td>\n",
       "      <td>2.000000</td>\n",
       "      <td>0.0</td>\n",
       "    </tr>\n",
       "    <tr>\n",
       "      <th>1</th>\n",
       "      <td>0.000000</td>\n",
       "      <td>-1.192609</td>\n",
       "      <td>-1.819654</td>\n",
       "      <td>0.006219</td>\n",
       "      <td>-0.955825</td>\n",
       "      <td>1.115885</td>\n",
       "      <td>-0.049339</td>\n",
       "      <td>-1.123579</td>\n",
       "      <td>2.000000</td>\n",
       "      <td>0.0</td>\n",
       "    </tr>\n",
       "    <tr>\n",
       "      <th>2</th>\n",
       "      <td>1.000000</td>\n",
       "      <td>0.185004</td>\n",
       "      <td>0.463734</td>\n",
       "      <td>0.225516</td>\n",
       "      <td>-0.827838</td>\n",
       "      <td>-1.681538</td>\n",
       "      <td>0.228254</td>\n",
       "      <td>-0.786538</td>\n",
       "      <td>3.000000</td>\n",
       "      <td>0.0</td>\n",
       "    </tr>\n",
       "    <tr>\n",
       "      <th>3</th>\n",
       "      <td>0.000000</td>\n",
       "      <td>0.440118</td>\n",
       "      <td>0.235395</td>\n",
       "      <td>0.139033</td>\n",
       "      <td>-0.767212</td>\n",
       "      <td>1.325318</td>\n",
       "      <td>-0.511994</td>\n",
       "      <td>-0.755064</td>\n",
       "      <td>2.000000</td>\n",
       "      <td>0.0</td>\n",
       "    </tr>\n",
       "    <tr>\n",
       "      <th>4</th>\n",
       "      <td>1.000000</td>\n",
       "      <td>-1.651813</td>\n",
       "      <td>-1.058525</td>\n",
       "      <td>-0.176013</td>\n",
       "      <td>-0.080122</td>\n",
       "      <td>0.457668</td>\n",
       "      <td>1.708752</td>\n",
       "      <td>-0.014578</td>\n",
       "      <td>3.000000</td>\n",
       "      <td>0.0</td>\n",
       "    </tr>\n",
       "    <tr>\n",
       "      <th>...</th>\n",
       "      <td>...</td>\n",
       "      <td>...</td>\n",
       "      <td>...</td>\n",
       "      <td>...</td>\n",
       "      <td>...</td>\n",
       "      <td>...</td>\n",
       "      <td>...</td>\n",
       "      <td>...</td>\n",
       "      <td>...</td>\n",
       "      <td>...</td>\n",
       "    </tr>\n",
       "    <tr>\n",
       "      <th>14264</th>\n",
       "      <td>0.272735</td>\n",
       "      <td>1.145156</td>\n",
       "      <td>0.643633</td>\n",
       "      <td>-0.493026</td>\n",
       "      <td>0.214433</td>\n",
       "      <td>-0.532369</td>\n",
       "      <td>-1.294301</td>\n",
       "      <td>0.078122</td>\n",
       "      <td>2.272735</td>\n",
       "      <td>0.0</td>\n",
       "    </tr>\n",
       "    <tr>\n",
       "      <th>14265</th>\n",
       "      <td>0.000000</td>\n",
       "      <td>-0.782295</td>\n",
       "      <td>-0.361706</td>\n",
       "      <td>-0.498330</td>\n",
       "      <td>0.519116</td>\n",
       "      <td>1.433187</td>\n",
       "      <td>0.978985</td>\n",
       "      <td>0.468653</td>\n",
       "      <td>2.000000</td>\n",
       "      <td>0.0</td>\n",
       "    </tr>\n",
       "    <tr>\n",
       "      <th>14266</th>\n",
       "      <td>0.000000</td>\n",
       "      <td>-0.388980</td>\n",
       "      <td>-0.915789</td>\n",
       "      <td>-0.288755</td>\n",
       "      <td>1.225859</td>\n",
       "      <td>0.330525</td>\n",
       "      <td>-0.407906</td>\n",
       "      <td>1.662688</td>\n",
       "      <td>2.000000</td>\n",
       "      <td>0.0</td>\n",
       "    </tr>\n",
       "    <tr>\n",
       "      <th>14267</th>\n",
       "      <td>0.000000</td>\n",
       "      <td>0.355149</td>\n",
       "      <td>0.088022</td>\n",
       "      <td>-0.639600</td>\n",
       "      <td>1.322398</td>\n",
       "      <td>1.102177</td>\n",
       "      <td>-0.537063</td>\n",
       "      <td>1.323311</td>\n",
       "      <td>2.000000</td>\n",
       "      <td>0.0</td>\n",
       "    </tr>\n",
       "    <tr>\n",
       "      <th>14268</th>\n",
       "      <td>0.000000</td>\n",
       "      <td>-1.614398</td>\n",
       "      <td>-1.307163</td>\n",
       "      <td>-0.531212</td>\n",
       "      <td>0.513260</td>\n",
       "      <td>1.447985</td>\n",
       "      <td>1.338628</td>\n",
       "      <td>0.424895</td>\n",
       "      <td>2.000000</td>\n",
       "      <td>0.0</td>\n",
       "    </tr>\n",
       "  </tbody>\n",
       "</table>\n",
       "<p>14269 rows × 10 columns</p>\n",
       "</div>"
      ],
      "text/plain": [
       "           Type  Air_temperature  Process_temperature  Rotational_speed  \\\n",
       "0      0.000000        -1.141586            -0.830186          0.278024   \n",
       "1      0.000000        -1.192609            -1.819654          0.006219   \n",
       "2      1.000000         0.185004             0.463734          0.225516   \n",
       "3      0.000000         0.440118             0.235395          0.139033   \n",
       "4      1.000000        -1.651813            -1.058525         -0.176013   \n",
       "...         ...              ...                  ...               ...   \n",
       "14264  0.272735         1.145156             0.643633         -0.493026   \n",
       "14265  0.000000        -0.782295            -0.361706         -0.498330   \n",
       "14266  0.000000        -0.388980            -0.915789         -0.288755   \n",
       "14267  0.000000         0.355149             0.088022         -0.639600   \n",
       "14268  0.000000        -1.614398            -1.307163         -0.531212   \n",
       "\n",
       "         Torque  Tool_wear  Temp_Delta     Power  Part_Time  Planned_Stop  \n",
       "0     -0.955825   1.130844    1.061034 -0.947754   2.000000           0.0  \n",
       "1     -0.955825   1.115885   -0.049339 -1.123579   2.000000           0.0  \n",
       "2     -0.827838  -1.681538    0.228254 -0.786538   3.000000           0.0  \n",
       "3     -0.767212   1.325318   -0.511994 -0.755064   2.000000           0.0  \n",
       "4     -0.080122   0.457668    1.708752 -0.014578   3.000000           0.0  \n",
       "...         ...        ...         ...       ...        ...           ...  \n",
       "14264  0.214433  -0.532369   -1.294301  0.078122   2.272735           0.0  \n",
       "14265  0.519116   1.433187    0.978985  0.468653   2.000000           0.0  \n",
       "14266  1.225859   0.330525   -0.407906  1.662688   2.000000           0.0  \n",
       "14267  1.322398   1.102177   -0.537063  1.323311   2.000000           0.0  \n",
       "14268  0.513260   1.447985    1.338628  0.424895   2.000000           0.0  \n",
       "\n",
       "[14269 rows x 10 columns]"
      ]
     },
     "execution_count": 18,
     "metadata": {},
     "output_type": "execute_result"
    }
   ],
   "source": [
    "X"
   ]
  },
  {
   "cell_type": "code",
   "execution_count": 19,
   "metadata": {
    "ExecuteTime": {
     "end_time": "2023-11-29T20:13:05.186596100Z",
     "start_time": "2023-11-29T20:13:05.169220500Z"
    },
    "id": "4XBkB4QgyoxL",
    "tags": []
   },
   "outputs": [],
   "source": [
    "from sklearn.model_selection import train_test_split\n",
    "X_train, X_test, y_train, y_test = train_test_split(X, y, test_size=0.2, random_state=42)"
   ]
  },
  {
   "cell_type": "code",
   "execution_count": 40,
   "metadata": {
    "ExecuteTime": {
     "end_time": "2023-11-26T00:40:01.463444900Z",
     "start_time": "2023-11-25T22:24:13.518176400Z"
    }
   },
   "outputs": [
    {
     "name": "stdout",
     "output_type": "stream",
     "text": [
      "Model Training:\n",
      "XGBClassifier(base_score=None, booster=None, callbacks=None,\n",
      "              colsample_bylevel=None, colsample_bynode=None,\n",
      "              colsample_bytree=None, early_stopping_rounds=None,\n",
      "              enable_categorical=False, eval_metric=None, feature_types=None,\n",
      "              gamma=None, gpu_id=None, grow_policy=None, importance_type=None,\n",
      "              interaction_constraints=None, learning_rate=0.1, max_bin=None,\n",
      "              max_cat_threshold=None, max_cat_to_onehot=None,\n",
      "              max_delta_step=None, max_depth=3, max_leaves=None,\n",
      "              min_child_weight=5, missing=nan, monotone_constraints=None,\n",
      "              n_estimators=2000, n_jobs=None, num_parallel_tree=None,\n",
      "              predictor=None, random_state=None, ...)\n",
      "Results:\n",
      "0.9999354823900408\n"
     ]
    }
   ],
   "source": [
    "\n",
    "from xgboost import XGBClassifier\n",
    "from sklearn.model_selection import GridSearchCV\n",
    "\n",
    "class XGBoostTuner:\n",
    "    def __init__(self, X_train, y_train):\n",
    "        self.X_train = X_train\n",
    "        self.y_train = y_train\n",
    "        self.model = XGBClassifier()\n",
    "        self.params = {\n",
    "            'n_estimators': [1000, 1500, 2000],\n",
    "            'max_depth': [2, 3, 6],\n",
    "            'subsample': [0.90, 0.95, 1],\n",
    "            'learning_rate': [0.01,0.05,0.1],\n",
    "            'objective': ['binary:logistic', 'binary:hinge'],\n",
    "            'min_child_weight': [5, 10, 15], \n",
    "            'reg_alpha':[0.1], \n",
    "            'reg_lambda':[0.1]\n",
    "        }\n",
    "\n",
    "    def tune_hyperparameters(self):     \n",
    "        search = GridSearchCV(self.model, self.params, cv=5, scoring='roc_auc')\n",
    "        search.fit(self.X_train, self.y_train)\n",
    "        return search\n",
    "\n",
    "\n",
    "xgboost_tuner = XGBoostTuner(X_train, y_train)\n",
    "search_results = xgboost_tuner.tune_hyperparameters()\n",
    "\n",
    "best_model = search_results.best_estimator_\n",
    "score = search_results.best_score_\n",
    "\n",
    "print(\"Model Training:\")\n",
    "print(best_model)\n",
    "\n",
    "print(\"Results:\")\n",
    "print(score)\n",
    "\n"
   ]
  },
  {
   "cell_type": "code",
   "execution_count": 23,
   "metadata": {
    "ExecuteTime": {
     "end_time": "2023-11-29T20:17:09.788524700Z",
     "start_time": "2023-11-29T20:16:31.693251Z"
    },
    "tags": []
   },
   "outputs": [
    {
     "name": "stdout",
     "output_type": "stream",
     "text": [
      "Model Training:\n",
      "XGBClassifier(base_score=None, booster=None, callbacks=None,\n",
      "              colsample_bylevel=None, colsample_bynode=None,\n",
      "              colsample_bytree=None, early_stopping_rounds=None,\n",
      "              enable_categorical=False, eval_metric=None, feature_types=None,\n",
      "              gamma=None, gpu_id=None, grow_policy=None, importance_type=None,\n",
      "              interaction_constraints=None, learning_rate=0.05, max_bin=None,\n",
      "              max_cat_threshold=None, max_cat_to_onehot=None,\n",
      "              max_delta_step=None, max_depth=3, max_leaves=None,\n",
      "              min_child_weight=5, missing=nan, monotone_constraints=None,\n",
      "              n_estimators=2000, n_jobs=None, num_parallel_tree=None,\n",
      "              predictor=None, random_state=None, ...)\n",
      "Results:\n",
      "0.999900458403759\n"
     ]
    }
   ],
   "source": [
    "import pickle\n",
    "from xgboost import XGBClassifier\n",
    "from sklearn.model_selection import GridSearchCV\n",
    "\n",
    "class XGBoostTuner:\n",
    "    def __init__(self, X_train, y_train):\n",
    "        self.X_train = X_train\n",
    "        self.y_train = y_train\n",
    "        self.model = XGBClassifier()\n",
    "        self.params = {\n",
    "            'n_estimators': [2000],\n",
    "            'max_depth': [3],\n",
    "            'subsample': [0.8],\n",
    "            'learning_rate': [0.05],\n",
    "            'objective': ['binary:logistic', 'binary:hinge'],\n",
    "            'min_child_weight': [5], \n",
    "            'reg_alpha':[0.1], \n",
    "            'reg_lambda':[0.1]\n",
    "        }\n",
    "\n",
    "    def tune_hyperparameters(self):     \n",
    "        search = GridSearchCV(self.model, self.params, cv=5, scoring='roc_auc')\n",
    "        search.fit(self.X_train, self.y_train)\n",
    "        return search\n",
    "\n",
    "\n",
    "xgboost_tuner = XGBoostTuner(X_train, y_train)\n",
    "search_results = xgboost_tuner.tune_hyperparameters()\n",
    "\n",
    "best_model = search_results.best_estimator_\n",
    "score = search_results.best_score_\n",
    "\n",
    "with open('xgboost_model.pkl', 'wb') as file:\n",
    "    pickle.dump(best_model, file)\n",
    "\n",
    "print(\"Model Training:\")\n",
    "print(best_model)\n",
    "\n",
    "print(\"Results:\")\n",
    "print(score)"
   ]
  },
  {
   "cell_type": "code",
   "execution_count": 24,
   "metadata": {
    "ExecuteTime": {
     "end_time": "2023-11-29T20:17:14.206140200Z",
     "start_time": "2023-11-29T20:17:13.993444Z"
    },
    "tags": []
   },
   "outputs": [
    {
     "name": "stdout",
     "output_type": "stream",
     "text": [
      "Classification Report (Test Data):\n",
      "              precision    recall  f1-score   support\n",
      "\n",
      "           0     0.9978    0.9935    0.9957      1386\n",
      "           1     0.9939    0.9980    0.9959      1468\n",
      "\n",
      "    accuracy                         0.9958      2854\n",
      "   macro avg     0.9959    0.9957    0.9958      2854\n",
      "weighted avg     0.9958    0.9958    0.9958      2854\n",
      "\n",
      "Confusion Matrix (Test Data):\n"
     ]
    },
    {
     "data": {
      "image/png": "[encoded data removed]",
      "text/plain": [
       "<Figure size 640x480 with 2 Axes>"
      ]
     },
     "metadata": {},
     "output_type": "display_data"
    }
   ],
   "source": [
    "from sklearn.metrics import classification_report, confusion_matrix\n",
    "import seaborn as sns\n",
    "import matplotlib.pyplot as plt\n",
    "\n",
    "class Xgboost_test:\n",
    "    def __init__(self, X_test, y_test, best_model):\n",
    "        self.X_test = X_test\n",
    "        self.y_test = y_test\n",
    "        self.best_model = best_model \n",
    "\n",
    "    def evaluate_model(self):\n",
    "        y_pred = self.best_model.predict(self.X_test)\n",
    "        return y_pred\n",
    "\n",
    "xgboost_tester = Xgboost_test(X_test, y_test, best_model)\n",
    "y_pred_test = xgboost_tester.evaluate_model()\n",
    "\n",
    "print('Classification Report (Test Data):')\n",
    "print(classification_report(y_test, y_pred_test, digits=4))\n",
    "\n",
    "print('Confusion Matrix (Test Data):')\n",
    "cm_test = confusion_matrix(y_test, y_pred_test)\n",
    "sns.heatmap(cm_test, annot=True, fmt='g', cmap='Blues')\n",
    "plt.ylabel('Actual', fontsize=10)\n",
    "plt.xlabel('Predicted', fontsize=10)\n",
    "plt.title('Confusion Matrix (Test Data)', fontsize=12)\n",
    "plt.show()"
   ]
  },
  {
   "cell_type": "code",
   "execution_count": 25,
   "metadata": {
    "ExecuteTime": {
     "end_time": "2023-11-29T20:17:16.291429800Z",
     "start_time": "2023-11-29T20:17:16.138179500Z"
    },
    "collapsed": false,
    "tags": []
   },
   "outputs": [
    {
     "data": {
      "image/png": "[encoded data removed]",
      "text/plain": [
       "<Figure size 800x600 with 1 Axes>"
      ]
     },
     "metadata": {},
     "output_type": "display_data"
    }
   ],
   "source": [
    "fpr, tpr, _ = roc_curve(y_test, y_pred_test)\n",
    "roc_auc = auc(fpr, tpr)\n",
    "\n",
    "plt.figure(figsize=(8, 6))\n",
    "plt.plot(fpr, tpr, color='darkorange', lw=2, label='ROC curve (area = {:.2f})'.format(roc_auc))\n",
    "plt.plot([0, 1], [0, 1], color='navy', lw=2, linestyle='--')\n",
    "plt.xlabel('False Positive Rate')\n",
    "plt.ylabel('True Positive Rate')\n",
    "plt.title('Receiver Operating Characteristic (ROC) Curve')\n",
    "plt.legend(loc='lower right')\n",
    "plt.show()"
   ]
  },
  {
   "cell_type": "code",
   "execution_count": 26,
   "metadata": {
    "ExecuteTime": {
     "end_time": "2023-11-29T20:17:17.730744200Z",
     "start_time": "2023-11-29T20:17:17.718105Z"
    },
    "collapsed": false,
    "tags": []
   },
   "outputs": [],
   "source": [
    "import pickle\n",
    "\n",
    "with open('xgboost_tuner_model.pkl', 'wb') as file:\n",
    "  pickle.dump(best_model, file)\n",
    "\n",
    "#with open('xgboost_tuner_model.pkl', 'rb') as file:\n",
    "#   loaded_model = pickle.load(file)"
   ]
  },
  {
   "cell_type": "code",
   "execution_count": null,
   "metadata": {},
   "outputs": [],
   "source": []
  }
 ],
 "metadata": {
  "kernelspec": {
   "display_name": "Python 3 (ipykernel)",
   "language": "python",
   "name": "python3"
  },
  "language_info": {
   "codemirror_mode": {
    "name": "ipython",
    "version": 3
   },
   "file_extension": ".py",
   "mimetype": "text/x-python",
   "name": "python",
   "nbconvert_exporter": "python",
   "pygments_lexer": "ipython3",
   "version": "3.11.5"
  }
 },
 "nbformat": 4,
 "nbformat_minor": 4
}
